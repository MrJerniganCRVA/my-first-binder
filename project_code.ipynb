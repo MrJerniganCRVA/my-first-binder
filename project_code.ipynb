{
 "cells": [
  {
   "cell_type": "markdown",
   "id": "8ee208b2-cdc7-4eed-8283-6e20e8eba97e",
   "metadata": {},
   "source": [
    "<h2>Importing Libraries and Building Network</h2>"
   ]
  },
  {
   "cell_type": "code",
   "execution_count": 1,
   "id": "1653acad-7c07-4c47-bc9e-86eaeb692dd6",
   "metadata": {},
   "outputs": [],
   "source": [
    "import numpy as np\n",
    "import pandas as pd\n",
    "import matplotlib.pyplot as plt\n",
    "import networkx as nx"
   ]
  },
  {
   "cell_type": "code",
   "execution_count": 2,
   "id": "ac192a3d-39ab-41e0-9c61-c5910543f038",
   "metadata": {},
   "outputs": [
    {
     "data": {
      "text/html": [
       "<div>\n",
       "<style scoped>\n",
       "    .dataframe tbody tr th:only-of-type {\n",
       "        vertical-align: middle;\n",
       "    }\n",
       "\n",
       "    .dataframe tbody tr th {\n",
       "        vertical-align: top;\n",
       "    }\n",
       "\n",
       "    .dataframe thead th {\n",
       "        text-align: right;\n",
       "    }\n",
       "</style>\n",
       "<table border=\"1\" class=\"dataframe\">\n",
       "  <thead>\n",
       "    <tr style=\"text-align: right;\">\n",
       "      <th></th>\n",
       "      <th>SOURCE_SUBREDDIT</th>\n",
       "      <th>TARGET_SUBREDDIT</th>\n",
       "      <th>POST_ID</th>\n",
       "      <th>TIMESTAMP</th>\n",
       "      <th>LINK_SENTIMENT</th>\n",
       "      <th>PROPERTIES</th>\n",
       "    </tr>\n",
       "  </thead>\n",
       "  <tbody>\n",
       "    <tr>\n",
       "      <th>0</th>\n",
       "      <td>leagueoflegends</td>\n",
       "      <td>teamredditteams</td>\n",
       "      <td>1u4nrps</td>\n",
       "      <td>2013-12-31 16:39:58</td>\n",
       "      <td>1</td>\n",
       "      <td>345.0,298.0,0.75652173913,0.0173913043478,0.08...</td>\n",
       "    </tr>\n",
       "    <tr>\n",
       "      <th>1</th>\n",
       "      <td>theredlion</td>\n",
       "      <td>soccer</td>\n",
       "      <td>1u4qkd</td>\n",
       "      <td>2013-12-31 18:18:37</td>\n",
       "      <td>-1</td>\n",
       "      <td>101.0,98.0,0.742574257426,0.019801980198,0.049...</td>\n",
       "    </tr>\n",
       "    <tr>\n",
       "      <th>2</th>\n",
       "      <td>inlandempire</td>\n",
       "      <td>bikela</td>\n",
       "      <td>1u4qlzs</td>\n",
       "      <td>2014-01-01 14:54:35</td>\n",
       "      <td>1</td>\n",
       "      <td>85.0,85.0,0.752941176471,0.0235294117647,0.082...</td>\n",
       "    </tr>\n",
       "    <tr>\n",
       "      <th>3</th>\n",
       "      <td>nfl</td>\n",
       "      <td>cfb</td>\n",
       "      <td>1u4sjvs</td>\n",
       "      <td>2013-12-31 17:37:55</td>\n",
       "      <td>1</td>\n",
       "      <td>1124.0,949.0,0.772241992883,0.0017793594306,0....</td>\n",
       "    </tr>\n",
       "    <tr>\n",
       "      <th>4</th>\n",
       "      <td>playmygame</td>\n",
       "      <td>gamedev</td>\n",
       "      <td>1u4w5ss</td>\n",
       "      <td>2014-01-01 02:51:13</td>\n",
       "      <td>1</td>\n",
       "      <td>715.0,622.0,0.777622377622,0.00699300699301,0....</td>\n",
       "    </tr>\n",
       "  </tbody>\n",
       "</table>\n",
       "</div>"
      ],
      "text/plain": [
       "  SOURCE_SUBREDDIT TARGET_SUBREDDIT  POST_ID            TIMESTAMP  \\\n",
       "0  leagueoflegends  teamredditteams  1u4nrps  2013-12-31 16:39:58   \n",
       "1       theredlion           soccer   1u4qkd  2013-12-31 18:18:37   \n",
       "2     inlandempire           bikela  1u4qlzs  2014-01-01 14:54:35   \n",
       "3              nfl              cfb  1u4sjvs  2013-12-31 17:37:55   \n",
       "4       playmygame          gamedev  1u4w5ss  2014-01-01 02:51:13   \n",
       "\n",
       "   LINK_SENTIMENT                                         PROPERTIES  \n",
       "0               1  345.0,298.0,0.75652173913,0.0173913043478,0.08...  \n",
       "1              -1  101.0,98.0,0.742574257426,0.019801980198,0.049...  \n",
       "2               1  85.0,85.0,0.752941176471,0.0235294117647,0.082...  \n",
       "3               1  1124.0,949.0,0.772241992883,0.0017793594306,0....  \n",
       "4               1  715.0,622.0,0.777622377622,0.00699300699301,0....  "
      ]
     },
     "execution_count": 2,
     "metadata": {},
     "output_type": "execute_result"
    }
   ],
   "source": [
    "df = pd.read_csv('body_reddit.tsv', sep='\\t')\n",
    "df.head()"
   ]
  },
  {
   "cell_type": "code",
   "execution_count": 3,
   "id": "601ea1ed-c29b-4a04-93a0-1c05781f27fd",
   "metadata": {},
   "outputs": [
    {
     "data": {
      "text/plain": [
       "35776"
      ]
     },
     "execution_count": 3,
     "metadata": {},
     "output_type": "execute_result"
    }
   ],
   "source": [
    "g = nx.DiGraph()\n",
    "\n",
    "for i, row in df.iterrows():\n",
    "    source = row['SOURCE_SUBREDDIT']\n",
    "    target = row['TARGET_SUBREDDIT']\n",
    "    g.add_edge(source, target)\n",
    "\n",
    "g.number_of_nodes()"
   ]
  },
  {
   "cell_type": "markdown",
   "id": "5054b90b-8bf9-4d3b-9c83-f7258363502b",
   "metadata": {},
   "source": [
    "<h2>Network Analysis</h2>"
   ]
  },
  {
   "cell_type": "code",
   "execution_count": 5,
   "id": "a90e6879-95b0-428b-b1f4-845c19e5d692",
   "metadata": {},
   "outputs": [
    {
     "name": "stdout",
     "output_type": "stream",
     "text": [
      "Nodes: 35776 Edges: 137821\n",
      "Strongly Connected: False\n",
      "Weakly Connected: False\n"
     ]
    }
   ],
   "source": [
    "print(f\"Nodes: {g.number_of_nodes()} Edges: {g.number_of_edges()}\")\n",
    "print(f\"Strongly Connected: {nx.is_strongly_connected(g)}\")\n",
    "print(f\"Weakly Connected: {nx.is_weakly_connected(g)}\")\n"
   ]
  },
  {
   "cell_type": "code",
   "execution_count": 6,
   "id": "a2f3f1ab-8df5-40dd-8b22-aa3271b7373f",
   "metadata": {},
   "outputs": [
    {
     "name": "stdout",
     "output_type": "stream",
     "text": [
      "Top In Degree: [('askreddit', 2161), ('iama', 1646), ('pics', 953), ('videos', 879), ('todayilearned', 816)]\n",
      "Top Out Degree: [('subredditdrama', 1350), ('copypasta', 636), ('drama', 600), ('subredditoftheday', 559), ('outoftheloop', 507)]\n"
     ]
    }
   ],
   "source": [
    "sorted_top_in = sorted(g.in_degree(), key=lambda x: x[1], reverse=True)[:5]\n",
    "sorted_top_out = sorted(g.out_degree(), key = lambda x: x[1], reverse=True)[:5]\n",
    "\n",
    "print(f\"Top In Degree: {sorted_top_in}\")\n",
    "print(f\"Top Out Degree: {sorted_top_out}\")"
   ]
  },
  {
   "cell_type": "code",
   "execution_count": 8,
   "id": "10dfd773-e5eb-4110-8e7f-feac922a3a2b",
   "metadata": {},
   "outputs": [
    {
     "name": "stdout",
     "output_type": "stream",
     "text": [
      "Mean 7.704662343470483\n",
      "Max 2524\n",
      "Min 1\n",
      "Standard Dev: 36.951671474700326\n"
     ]
    }
   ],
   "source": [
    "#Statitstics\n",
    "degrees = [d for _, d in g.degree()]\n",
    "print(\"Mean\",np.mean(degrees))\n",
    "print(\"Max\",np.max(degrees))\n",
    "print(\"Min\",np.min(degrees))\n",
    "print(\"Standard Dev:\", np.std(degrees))"
   ]
  },
  {
   "cell_type": "code",
   "execution_count": 18,
   "id": "32814d36-a9b7-41d8-9628-d0679deb5db6",
   "metadata": {},
   "outputs": [],
   "source": [
    "in_degree = [deg for _, deg in g.in_degree()]\n",
    "out_degree = [deg for _, deg in g.out_degree()]"
   ]
  },
  {
   "cell_type": "code",
   "execution_count": 26,
   "id": "e9791bcc-2eac-4b8c-a38b-02e650ea7ee4",
   "metadata": {},
   "outputs": [
    {
     "data": {
      "image/png": "[encoded data removed]",
      "text/plain": [
       "<Figure size 800x600 with 1 Axes>"
      ]
     },
     "metadata": {},
     "output_type": "display_data"
    }
   ],
   "source": [
    "#Histogram of Degrees\n",
    "plt.figure(figsize=(8,6))\n",
    "plt.hist(in_degree, bins=100, alpha=0.5, label=\"In Degree\", color=\"red\")\n",
    "plt.hist(out_degree, bins=100, alpha=0.5, label=\"Out Degree\", color=\"blue\")\n",
    "plt.xlabel(\"Degreees\")\n",
    "plt.ylabel(\"Frequency\")\n",
    "plt.xscale('log')\n",
    "plt.yscale('log')\n",
    "plt.legend()\n",
    "plt.title(\"Histogram of In Degrees and Out Degrees of Reddit Network\")\n",
    "plt.show()"
   ]
  },
  {
   "cell_type": "code",
   "execution_count": null,
   "id": "396e1341-22a8-4585-9524-ed716fd6ae56",
   "metadata": {},
   "outputs": [],
   "source": []
  },
  {
   "cell_type": "code",
   "execution_count": 9,
   "id": "fe361ce6-2c53-425c-a800-ee2dcda54a0d",
   "metadata": {},
   "outputs": [
    {
     "name": "stdout",
     "output_type": "stream",
     "text": [
      "Top degree: [('askreddit', 0.07055206149545772), ('iama', 0.056743535988819004), ('subredditdrama', 0.05042627533193571), ('writingprompts', 0.031949685534591196), ('outoftheloop', 0.030719776380153736)]\n"
     ]
    }
   ],
   "source": [
    "degree_cent = nx.degree_centrality(g)\n",
    "top_degree = sorted(degree_cent.items(), key=lambda x: x[1], reverse=True)[:5]\n",
    "\n",
    "print(f\"Top degree: {top_degree}\")"
   ]
  },
  {
   "cell_type": "code",
   "execution_count": 11,
   "id": "24fd7df4-7b79-45ac-bdcc-c330f12d3878",
   "metadata": {},
   "outputs": [
    {
     "name": "stdout",
     "output_type": "stream",
     "text": [
      "Between Centrality 1: [('askreddit', 0.052369575934516174), ('subredditdrama', 0.04859890722376449), ('iama', 0.04339681392066428), ('outoftheloop', 0.02933736764444548), ('writingprompts', 0.01755304102260726)]\n",
      "Between Centrality 2: [('askreddit', 0.05233421950058464), ('subredditdrama', 0.04702729586846618), ('iama', 0.04183333483500194), ('outoftheloop', 0.030722434784438958), ('writingprompts', 0.015115147846616857)]\n"
     ]
    }
   ],
   "source": [
    "#betweenness centrality would take WAY too long to analyze so running a few subsets to estimate\n",
    "betweenness_cent_1 = nx.betweenness_centrality(g, k=1000, seed=10)\n",
    "betweenness_cent_2 = nx.betweenness_centrality(g, k=1000, seed=20)\n",
    "\n",
    "top_cent_1 = sorted(betweenness_cent_1.items(), key=lambda x: x[1], reverse=True)[:5]\n",
    "top_cent_2 = sorted(betweenness_cent_2.items(), key=lambda x: x[1], reverse=True)[:5]\n",
    "\n",
    "print(f\"Between Centrality 1: {top_cent_1}\")\n",
    "print(f\"Between Centrality 2: {top_cent_2}\")\n"
   ]
  },
  {
   "cell_type": "markdown",
   "id": "99c0c906-736b-4dd9-8522-ff1b3b002df3",
   "metadata": {},
   "source": [
    "<h2>Investigating Sentiment Analysis</h2>"
   ]
  },
  {
   "cell_type": "markdown",
   "id": "d19a4020-863f-4170-a3fe-455140fac573",
   "metadata": {},
   "source": [
    "<h4>Vader Sentiment Analysis exists in data set. Need to extract first</h4>"
   ]
  },
  {
   "cell_type": "code",
   "execution_count": 29,
   "id": "9c251d82-7098-4871-8b4c-7a2a01ad5620",
   "metadata": {},
   "outputs": [],
   "source": [
    "#Extracting VADER sentiment calculations\n",
    "df[['VADER_POS','VADER_NEG','VADER_COMPOUND']]= df['PROPERTIES'].str.split(',', expand=True)[[18,19,20]].astype(float)"
   ]
  },
  {
   "cell_type": "code",
   "execution_count": 31,
   "id": "76be7b96-7e18-4e12-b334-e7f5cf6efc4f",
   "metadata": {},
   "outputs": [
    {
     "data": {
      "text/html": [
       "<div>\n",
       "<style scoped>\n",
       "    .dataframe tbody tr th:only-of-type {\n",
       "        vertical-align: middle;\n",
       "    }\n",
       "\n",
       "    .dataframe tbody tr th {\n",
       "        vertical-align: top;\n",
       "    }\n",
       "\n",
       "    .dataframe thead th {\n",
       "        text-align: right;\n",
       "    }\n",
       "</style>\n",
       "<table border=\"1\" class=\"dataframe\">\n",
       "  <thead>\n",
       "    <tr style=\"text-align: right;\">\n",
       "      <th></th>\n",
       "      <th>SOURCE_SUBREDDIT</th>\n",
       "      <th>TARGET_SUBREDDIT</th>\n",
       "      <th>POST_ID</th>\n",
       "      <th>TIMESTAMP</th>\n",
       "      <th>LINK_SENTIMENT</th>\n",
       "      <th>PROPERTIES</th>\n",
       "      <th>VADER_POS</th>\n",
       "      <th>VADER_NEG</th>\n",
       "      <th>VADER_COMPOUND</th>\n",
       "    </tr>\n",
       "  </thead>\n",
       "  <tbody>\n",
       "    <tr>\n",
       "      <th>0</th>\n",
       "      <td>leagueoflegends</td>\n",
       "      <td>teamredditteams</td>\n",
       "      <td>1u4nrps</td>\n",
       "      <td>2013-12-31 16:39:58</td>\n",
       "      <td>1</td>\n",
       "      <td>345.0,298.0,0.75652173913,0.0173913043478,0.08...</td>\n",
       "      <td>0.073</td>\n",
       "      <td>0.080</td>\n",
       "      <td>0.1748</td>\n",
       "    </tr>\n",
       "    <tr>\n",
       "      <th>1</th>\n",
       "      <td>theredlion</td>\n",
       "      <td>soccer</td>\n",
       "      <td>1u4qkd</td>\n",
       "      <td>2013-12-31 18:18:37</td>\n",
       "      <td>-1</td>\n",
       "      <td>101.0,98.0,0.742574257426,0.019801980198,0.049...</td>\n",
       "      <td>0.472</td>\n",
       "      <td>0.000</td>\n",
       "      <td>0.5538</td>\n",
       "    </tr>\n",
       "    <tr>\n",
       "      <th>2</th>\n",
       "      <td>inlandempire</td>\n",
       "      <td>bikela</td>\n",
       "      <td>1u4qlzs</td>\n",
       "      <td>2014-01-01 14:54:35</td>\n",
       "      <td>1</td>\n",
       "      <td>85.0,85.0,0.752941176471,0.0235294117647,0.082...</td>\n",
       "      <td>0.000</td>\n",
       "      <td>0.000</td>\n",
       "      <td>0.0000</td>\n",
       "    </tr>\n",
       "    <tr>\n",
       "      <th>3</th>\n",
       "      <td>nfl</td>\n",
       "      <td>cfb</td>\n",
       "      <td>1u4sjvs</td>\n",
       "      <td>2013-12-31 17:37:55</td>\n",
       "      <td>1</td>\n",
       "      <td>1124.0,949.0,0.772241992883,0.0017793594306,0....</td>\n",
       "      <td>0.153</td>\n",
       "      <td>0.026</td>\n",
       "      <td>0.9672</td>\n",
       "    </tr>\n",
       "    <tr>\n",
       "      <th>4</th>\n",
       "      <td>playmygame</td>\n",
       "      <td>gamedev</td>\n",
       "      <td>1u4w5ss</td>\n",
       "      <td>2014-01-01 02:51:13</td>\n",
       "      <td>1</td>\n",
       "      <td>715.0,622.0,0.777622377622,0.00699300699301,0....</td>\n",
       "      <td>0.139</td>\n",
       "      <td>0.039</td>\n",
       "      <td>0.8906</td>\n",
       "    </tr>\n",
       "  </tbody>\n",
       "</table>\n",
       "</div>"
      ],
      "text/plain": [
       "  SOURCE_SUBREDDIT TARGET_SUBREDDIT  POST_ID            TIMESTAMP  \\\n",
       "0  leagueoflegends  teamredditteams  1u4nrps  2013-12-31 16:39:58   \n",
       "1       theredlion           soccer   1u4qkd  2013-12-31 18:18:37   \n",
       "2     inlandempire           bikela  1u4qlzs  2014-01-01 14:54:35   \n",
       "3              nfl              cfb  1u4sjvs  2013-12-31 17:37:55   \n",
       "4       playmygame          gamedev  1u4w5ss  2014-01-01 02:51:13   \n",
       "\n",
       "   LINK_SENTIMENT                                         PROPERTIES  \\\n",
       "0               1  345.0,298.0,0.75652173913,0.0173913043478,0.08...   \n",
       "1              -1  101.0,98.0,0.742574257426,0.019801980198,0.049...   \n",
       "2               1  85.0,85.0,0.752941176471,0.0235294117647,0.082...   \n",
       "3               1  1124.0,949.0,0.772241992883,0.0017793594306,0....   \n",
       "4               1  715.0,622.0,0.777622377622,0.00699300699301,0....   \n",
       "\n",
       "   VADER_POS  VADER_NEG  VADER_COMPOUND  \n",
       "0      0.073      0.080          0.1748  \n",
       "1      0.472      0.000          0.5538  \n",
       "2      0.000      0.000          0.0000  \n",
       "3      0.153      0.026          0.9672  \n",
       "4      0.139      0.039          0.8906  "
      ]
     },
     "execution_count": 31,
     "metadata": {},
     "output_type": "execute_result"
    }
   ],
   "source": [
    "df.head()"
   ]
  },
  {
   "cell_type": "code",
   "execution_count": 36,
   "id": "28236810-128a-472a-a349-bd8eccd9fbcc",
   "metadata": {},
   "outputs": [
    {
     "data": {
      "text/html": [
       "<div>\n",
       "<style scoped>\n",
       "    .dataframe tbody tr th:only-of-type {\n",
       "        vertical-align: middle;\n",
       "    }\n",
       "\n",
       "    .dataframe tbody tr th {\n",
       "        vertical-align: top;\n",
       "    }\n",
       "\n",
       "    .dataframe thead th {\n",
       "        text-align: right;\n",
       "    }\n",
       "</style>\n",
       "<table border=\"1\" class=\"dataframe\">\n",
       "  <thead>\n",
       "    <tr style=\"text-align: right;\">\n",
       "      <th></th>\n",
       "      <th>SOURCE_SUBREDDIT</th>\n",
       "      <th>TARGET_SUBREDDIT</th>\n",
       "      <th>POST_ID</th>\n",
       "      <th>TIMESTAMP</th>\n",
       "      <th>LINK_SENTIMENT</th>\n",
       "      <th>PROPERTIES</th>\n",
       "      <th>VADER_POS</th>\n",
       "      <th>VADER_NEG</th>\n",
       "      <th>VADER_COMPOUND</th>\n",
       "    </tr>\n",
       "  </thead>\n",
       "  <tbody>\n",
       "    <tr>\n",
       "      <th>2</th>\n",
       "      <td>inlandempire</td>\n",
       "      <td>bikela</td>\n",
       "      <td>1u4qlzs</td>\n",
       "      <td>2014-01-01 14:54:35</td>\n",
       "      <td>1</td>\n",
       "      <td>85.0,85.0,0.752941176471,0.0235294117647,0.082...</td>\n",
       "      <td>0.0</td>\n",
       "      <td>0.0</td>\n",
       "      <td>0.0</td>\n",
       "    </tr>\n",
       "    <tr>\n",
       "      <th>6</th>\n",
       "      <td>locationbot</td>\n",
       "      <td>legaladvice</td>\n",
       "      <td>1u4wfes</td>\n",
       "      <td>2014-01-07 20:17:41</td>\n",
       "      <td>1</td>\n",
       "      <td>184.0,172.0,0.744565217391,0.0326086956522,0.0...</td>\n",
       "      <td>0.0</td>\n",
       "      <td>0.0</td>\n",
       "      <td>0.0</td>\n",
       "    </tr>\n",
       "    <tr>\n",
       "      <th>15</th>\n",
       "      <td>gaming4gamers</td>\n",
       "      <td>fallout</td>\n",
       "      <td>1u5q84s</td>\n",
       "      <td>2014-01-01 06:55:04</td>\n",
       "      <td>1</td>\n",
       "      <td>102.0,102.0,0.803921568627,0.0294117647059,0.0...</td>\n",
       "      <td>0.0</td>\n",
       "      <td>0.0</td>\n",
       "      <td>0.0</td>\n",
       "    </tr>\n",
       "    <tr>\n",
       "      <th>21</th>\n",
       "      <td>fl_vapers</td>\n",
       "      <td>vaperequests</td>\n",
       "      <td>1u5uchs</td>\n",
       "      <td>2014-01-03 07:21:14</td>\n",
       "      <td>1</td>\n",
       "      <td>218.0,197.0,0.756880733945,0.0137614678899,0.0...</td>\n",
       "      <td>0.0</td>\n",
       "      <td>0.0</td>\n",
       "      <td>0.0</td>\n",
       "    </tr>\n",
       "    <tr>\n",
       "      <th>22</th>\n",
       "      <td>jailbreak</td>\n",
       "      <td>flextweak</td>\n",
       "      <td>1u5vxys</td>\n",
       "      <td>2014-01-01 08:33:33</td>\n",
       "      <td>1</td>\n",
       "      <td>115.0,110.0,0.713043478261,0.0173913043478,0.0...</td>\n",
       "      <td>0.0</td>\n",
       "      <td>0.0</td>\n",
       "      <td>0.0</td>\n",
       "    </tr>\n",
       "  </tbody>\n",
       "</table>\n",
       "</div>"
      ],
      "text/plain": [
       "   SOURCE_SUBREDDIT TARGET_SUBREDDIT  POST_ID            TIMESTAMP  \\\n",
       "2      inlandempire           bikela  1u4qlzs  2014-01-01 14:54:35   \n",
       "6       locationbot      legaladvice  1u4wfes  2014-01-07 20:17:41   \n",
       "15    gaming4gamers          fallout  1u5q84s  2014-01-01 06:55:04   \n",
       "21        fl_vapers     vaperequests  1u5uchs  2014-01-03 07:21:14   \n",
       "22        jailbreak        flextweak  1u5vxys  2014-01-01 08:33:33   \n",
       "\n",
       "    LINK_SENTIMENT                                         PROPERTIES  \\\n",
       "2                1  85.0,85.0,0.752941176471,0.0235294117647,0.082...   \n",
       "6                1  184.0,172.0,0.744565217391,0.0326086956522,0.0...   \n",
       "15               1  102.0,102.0,0.803921568627,0.0294117647059,0.0...   \n",
       "21               1  218.0,197.0,0.756880733945,0.0137614678899,0.0...   \n",
       "22               1  115.0,110.0,0.713043478261,0.0173913043478,0.0...   \n",
       "\n",
       "    VADER_POS  VADER_NEG  VADER_COMPOUND  \n",
       "2         0.0        0.0             0.0  \n",
       "6         0.0        0.0             0.0  \n",
       "15        0.0        0.0             0.0  \n",
       "21        0.0        0.0             0.0  \n",
       "22        0.0        0.0             0.0  "
      ]
     },
     "execution_count": 36,
     "metadata": {},
     "output_type": "execute_result"
    }
   ],
   "source": [
    "#saw some 0 for all three sentiment scores. investigating\n",
    "empty_vader = df[\n",
    "    (df['VADER_POS']==0.0) & \n",
    "    (df['VADER_NEG']==0.0) & \n",
    "    (df['VADER_COMPOUND']==0.0)].copy()\n",
    "\n",
    "empty_vader.head()"
   ]
  },
  {
   "cell_type": "code",
   "execution_count": 43,
   "id": "db62af2c-17c1-4863-8d03-c0b3bc89c111",
   "metadata": {},
   "outputs": [
    {
     "data": {
      "text/plain": [
       "41991"
      ]
     },
     "execution_count": 43,
     "metadata": {},
     "output_type": "execute_result"
    }
   ],
   "source": [
    "len(empty_vader)"
   ]
  },
  {
   "cell_type": "code",
   "execution_count": 44,
   "id": "c412f2fd-953b-4a98-88d8-6db821bfd9a2",
   "metadata": {},
   "outputs": [
    {
     "data": {
      "text/html": [
       "<div>\n",
       "<style scoped>\n",
       "    .dataframe tbody tr th:only-of-type {\n",
       "        vertical-align: middle;\n",
       "    }\n",
       "\n",
       "    .dataframe tbody tr th {\n",
       "        vertical-align: top;\n",
       "    }\n",
       "\n",
       "    .dataframe thead th {\n",
       "        text-align: right;\n",
       "    }\n",
       "</style>\n",
       "<table border=\"1\" class=\"dataframe\">\n",
       "  <thead>\n",
       "    <tr style=\"text-align: right;\">\n",
       "      <th></th>\n",
       "      <th>SOURCE_SUBREDDIT</th>\n",
       "      <th>TARGET_SUBREDDIT</th>\n",
       "      <th>POST_ID</th>\n",
       "      <th>TIMESTAMP</th>\n",
       "      <th>LINK_SENTIMENT</th>\n",
       "      <th>PROPERTIES</th>\n",
       "      <th>VADER_POS</th>\n",
       "      <th>VADER_NEG</th>\n",
       "      <th>VADER_COMPOUND</th>\n",
       "    </tr>\n",
       "  </thead>\n",
       "  <tbody>\n",
       "    <tr>\n",
       "      <th>0</th>\n",
       "      <td>leagueoflegends</td>\n",
       "      <td>teamredditteams</td>\n",
       "      <td>1u4nrps</td>\n",
       "      <td>2013-12-31 16:39:58</td>\n",
       "      <td>1</td>\n",
       "      <td>345.0,298.0,0.75652173913,0.0173913043478,0.08...</td>\n",
       "      <td>0.073</td>\n",
       "      <td>0.080</td>\n",
       "      <td>0.1748</td>\n",
       "    </tr>\n",
       "    <tr>\n",
       "      <th>1</th>\n",
       "      <td>theredlion</td>\n",
       "      <td>soccer</td>\n",
       "      <td>1u4qkd</td>\n",
       "      <td>2013-12-31 18:18:37</td>\n",
       "      <td>-1</td>\n",
       "      <td>101.0,98.0,0.742574257426,0.019801980198,0.049...</td>\n",
       "      <td>0.472</td>\n",
       "      <td>0.000</td>\n",
       "      <td>0.5538</td>\n",
       "    </tr>\n",
       "    <tr>\n",
       "      <th>3</th>\n",
       "      <td>nfl</td>\n",
       "      <td>cfb</td>\n",
       "      <td>1u4sjvs</td>\n",
       "      <td>2013-12-31 17:37:55</td>\n",
       "      <td>1</td>\n",
       "      <td>1124.0,949.0,0.772241992883,0.0017793594306,0....</td>\n",
       "      <td>0.153</td>\n",
       "      <td>0.026</td>\n",
       "      <td>0.9672</td>\n",
       "    </tr>\n",
       "    <tr>\n",
       "      <th>4</th>\n",
       "      <td>playmygame</td>\n",
       "      <td>gamedev</td>\n",
       "      <td>1u4w5ss</td>\n",
       "      <td>2014-01-01 02:51:13</td>\n",
       "      <td>1</td>\n",
       "      <td>715.0,622.0,0.777622377622,0.00699300699301,0....</td>\n",
       "      <td>0.139</td>\n",
       "      <td>0.039</td>\n",
       "      <td>0.8906</td>\n",
       "    </tr>\n",
       "    <tr>\n",
       "      <th>5</th>\n",
       "      <td>dogemarket</td>\n",
       "      <td>dogecoin</td>\n",
       "      <td>1u4w7bs</td>\n",
       "      <td>2013-12-31 18:35:44</td>\n",
       "      <td>1</td>\n",
       "      <td>1328.0,1110.0,0.768825301205,0.0143072289157,0...</td>\n",
       "      <td>0.100</td>\n",
       "      <td>0.008</td>\n",
       "      <td>0.9323</td>\n",
       "    </tr>\n",
       "  </tbody>\n",
       "</table>\n",
       "</div>"
      ],
      "text/plain": [
       "  SOURCE_SUBREDDIT TARGET_SUBREDDIT  POST_ID            TIMESTAMP  \\\n",
       "0  leagueoflegends  teamredditteams  1u4nrps  2013-12-31 16:39:58   \n",
       "1       theredlion           soccer   1u4qkd  2013-12-31 18:18:37   \n",
       "3              nfl              cfb  1u4sjvs  2013-12-31 17:37:55   \n",
       "4       playmygame          gamedev  1u4w5ss  2014-01-01 02:51:13   \n",
       "5       dogemarket         dogecoin  1u4w7bs  2013-12-31 18:35:44   \n",
       "\n",
       "   LINK_SENTIMENT                                         PROPERTIES  \\\n",
       "0               1  345.0,298.0,0.75652173913,0.0173913043478,0.08...   \n",
       "1              -1  101.0,98.0,0.742574257426,0.019801980198,0.049...   \n",
       "3               1  1124.0,949.0,0.772241992883,0.0017793594306,0....   \n",
       "4               1  715.0,622.0,0.777622377622,0.00699300699301,0....   \n",
       "5               1  1328.0,1110.0,0.768825301205,0.0143072289157,0...   \n",
       "\n",
       "   VADER_POS  VADER_NEG  VADER_COMPOUND  \n",
       "0      0.073      0.080          0.1748  \n",
       "1      0.472      0.000          0.5538  \n",
       "3      0.153      0.026          0.9672  \n",
       "4      0.139      0.039          0.8906  \n",
       "5      0.100      0.008          0.9323  "
      ]
     },
     "execution_count": 44,
     "metadata": {},
     "output_type": "execute_result"
    }
   ],
   "source": [
    "#42 thousand entries need to be cleaned up\n",
    "df_cleaned = df.drop(empty_vader.index)\n",
    "\n",
    "df_cleaned.head()"
   ]
  },
  {
   "cell_type": "markdown",
   "id": "aa3b51aa-bff0-494b-8eb0-49e44b2b0f27",
   "metadata": {},
   "source": [
    "<h2>Classification of Subreddits</h2>"
   ]
  },
  {
   "cell_type": "markdown",
   "id": "b2e9107b-82d9-4269-9077-f30c1d08fc49",
   "metadata": {},
   "source": [
    "<h5>Looking to see if certain subreddits could be viewed as positive, negative, or neutral based on the sentiment scores and connections to other subreddits.</h5>"
   ]
  },
  {
   "cell_type": "code",
   "execution_count": 45,
   "id": "0185a158-2f8b-4f00-9c52-9fa4722f273a",
   "metadata": {},
   "outputs": [
    {
     "data": {
      "text/html": [
       "<div>\n",
       "<style scoped>\n",
       "    .dataframe tbody tr th:only-of-type {\n",
       "        vertical-align: middle;\n",
       "    }\n",
       "\n",
       "    .dataframe tbody tr th {\n",
       "        vertical-align: top;\n",
       "    }\n",
       "\n",
       "    .dataframe thead th {\n",
       "        text-align: right;\n",
       "    }\n",
       "</style>\n",
       "<table border=\"1\" class=\"dataframe\">\n",
       "  <thead>\n",
       "    <tr style=\"text-align: right;\">\n",
       "      <th></th>\n",
       "      <th>VADER_POS</th>\n",
       "      <th>VADER_NEG</th>\n",
       "      <th>VADER_COMPOUND</th>\n",
       "    </tr>\n",
       "    <tr>\n",
       "      <th>SOURCE_SUBREDDIT</th>\n",
       "      <th></th>\n",
       "      <th></th>\n",
       "      <th></th>\n",
       "    </tr>\n",
       "  </thead>\n",
       "  <tbody>\n",
       "    <tr>\n",
       "      <th>07scape</th>\n",
       "      <td>0.11950</td>\n",
       "      <td>0.07800</td>\n",
       "      <td>0.98430</td>\n",
       "    </tr>\n",
       "    <tr>\n",
       "      <th>0magick</th>\n",
       "      <td>0.07400</td>\n",
       "      <td>0.05100</td>\n",
       "      <td>0.67420</td>\n",
       "    </tr>\n",
       "    <tr>\n",
       "      <th>0x10c</th>\n",
       "      <td>0.15675</td>\n",
       "      <td>0.00825</td>\n",
       "      <td>0.61490</td>\n",
       "    </tr>\n",
       "    <tr>\n",
       "      <th>1000wordstories</th>\n",
       "      <td>0.05400</td>\n",
       "      <td>0.05500</td>\n",
       "      <td>-0.27320</td>\n",
       "    </tr>\n",
       "    <tr>\n",
       "      <th>100daysofketo</th>\n",
       "      <td>0.14820</td>\n",
       "      <td>0.06210</td>\n",
       "      <td>0.72348</td>\n",
       "    </tr>\n",
       "  </tbody>\n",
       "</table>\n",
       "</div>"
      ],
      "text/plain": [
       "                  VADER_POS  VADER_NEG  VADER_COMPOUND\n",
       "SOURCE_SUBREDDIT                                      \n",
       "07scape             0.11950    0.07800         0.98430\n",
       "0magick             0.07400    0.05100         0.67420\n",
       "0x10c               0.15675    0.00825         0.61490\n",
       "1000wordstories     0.05400    0.05500        -0.27320\n",
       "100daysofketo       0.14820    0.06210         0.72348"
      ]
     },
     "execution_count": 45,
     "metadata": {},
     "output_type": "execute_result"
    }
   ],
   "source": [
    "#New Dataframe aggregating by subreddit (in is seperate from out)\n",
    "out_sentiment = df_cleaned.groupby('SOURCE_SUBREDDIT')[['VADER_POS', 'VADER_NEG','VADER_COMPOUND']].mean()\n",
    "out_sentiment.head()"
   ]
  },
  {
   "cell_type": "code",
   "execution_count": 46,
   "id": "0cda7cc6-94f0-4832-9e62-71863292d741",
   "metadata": {},
   "outputs": [
    {
     "data": {
      "text/html": [
       "<div>\n",
       "<style scoped>\n",
       "    .dataframe tbody tr th:only-of-type {\n",
       "        vertical-align: middle;\n",
       "    }\n",
       "\n",
       "    .dataframe tbody tr th {\n",
       "        vertical-align: top;\n",
       "    }\n",
       "\n",
       "    .dataframe thead th {\n",
       "        text-align: right;\n",
       "    }\n",
       "</style>\n",
       "<table border=\"1\" class=\"dataframe\">\n",
       "  <thead>\n",
       "    <tr style=\"text-align: right;\">\n",
       "      <th></th>\n",
       "      <th>VADER_POS</th>\n",
       "      <th>VADER_NEG</th>\n",
       "      <th>VADER_COMPOUND</th>\n",
       "    </tr>\n",
       "    <tr>\n",
       "      <th>TARGET_SUBREDDIT</th>\n",
       "      <th></th>\n",
       "      <th></th>\n",
       "      <th></th>\n",
       "    </tr>\n",
       "  </thead>\n",
       "  <tbody>\n",
       "    <tr>\n",
       "      <th>01001111010100000</th>\n",
       "      <td>0.080000</td>\n",
       "      <td>0.060</td>\n",
       "      <td>0.900600</td>\n",
       "    </tr>\n",
       "    <tr>\n",
       "      <th>0131</th>\n",
       "      <td>0.123000</td>\n",
       "      <td>0.031</td>\n",
       "      <td>0.818700</td>\n",
       "    </tr>\n",
       "    <tr>\n",
       "      <th>07scape</th>\n",
       "      <td>0.138667</td>\n",
       "      <td>0.063</td>\n",
       "      <td>0.692067</td>\n",
       "    </tr>\n",
       "    <tr>\n",
       "      <th>0bservat0ry</th>\n",
       "      <td>0.049000</td>\n",
       "      <td>0.024</td>\n",
       "      <td>0.088550</td>\n",
       "    </tr>\n",
       "    <tr>\n",
       "      <th>0magick</th>\n",
       "      <td>0.095000</td>\n",
       "      <td>0.067</td>\n",
       "      <td>0.296000</td>\n",
       "    </tr>\n",
       "  </tbody>\n",
       "</table>\n",
       "</div>"
      ],
      "text/plain": [
       "                   VADER_POS  VADER_NEG  VADER_COMPOUND\n",
       "TARGET_SUBREDDIT                                       \n",
       "01001111010100000   0.080000      0.060        0.900600\n",
       "0131                0.123000      0.031        0.818700\n",
       "07scape             0.138667      0.063        0.692067\n",
       "0bservat0ry         0.049000      0.024        0.088550\n",
       "0magick             0.095000      0.067        0.296000"
      ]
     },
     "execution_count": 46,
     "metadata": {},
     "output_type": "execute_result"
    }
   ],
   "source": [
    "in_sentiment = df_cleaned.groupby('TARGET_SUBREDDIT')[['VADER_POS', 'VADER_NEG','VADER_COMPOUND']].mean()\n",
    "in_sentiment.head()"
   ]
  },
  {
   "cell_type": "code",
   "execution_count": 48,
   "id": "52e151ba-a938-41c0-8c79-7f13cdf0faf1",
   "metadata": {},
   "outputs": [
    {
     "data": {
      "text/html": [
       "<div>\n",
       "<style scoped>\n",
       "    .dataframe tbody tr th:only-of-type {\n",
       "        vertical-align: middle;\n",
       "    }\n",
       "\n",
       "    .dataframe tbody tr th {\n",
       "        vertical-align: top;\n",
       "    }\n",
       "\n",
       "    .dataframe thead th {\n",
       "        text-align: right;\n",
       "    }\n",
       "</style>\n",
       "<table border=\"1\" class=\"dataframe\">\n",
       "  <thead>\n",
       "    <tr style=\"text-align: right;\">\n",
       "      <th></th>\n",
       "      <th>OUT_VADER_POS</th>\n",
       "      <th>OUT_VADER_NEG</th>\n",
       "      <th>OUT_VADER_COMPOUND</th>\n",
       "      <th>IN_VADER_POS</th>\n",
       "      <th>IN_VADER_NEG</th>\n",
       "      <th>IN_VADER_COMPOUND</th>\n",
       "    </tr>\n",
       "  </thead>\n",
       "  <tbody>\n",
       "    <tr>\n",
       "      <th>07scape</th>\n",
       "      <td>0.119500</td>\n",
       "      <td>0.078000</td>\n",
       "      <td>0.984300</td>\n",
       "      <td>0.138667</td>\n",
       "      <td>0.063</td>\n",
       "      <td>0.692067</td>\n",
       "    </tr>\n",
       "    <tr>\n",
       "      <th>0magick</th>\n",
       "      <td>0.074000</td>\n",
       "      <td>0.051000</td>\n",
       "      <td>0.674200</td>\n",
       "      <td>0.095000</td>\n",
       "      <td>0.067</td>\n",
       "      <td>0.296000</td>\n",
       "    </tr>\n",
       "    <tr>\n",
       "      <th>0x10c</th>\n",
       "      <td>0.156750</td>\n",
       "      <td>0.008250</td>\n",
       "      <td>0.614900</td>\n",
       "      <td>0.144000</td>\n",
       "      <td>0.000</td>\n",
       "      <td>0.636000</td>\n",
       "    </tr>\n",
       "    <tr>\n",
       "      <th>100daysofketo</th>\n",
       "      <td>0.148200</td>\n",
       "      <td>0.062100</td>\n",
       "      <td>0.723480</td>\n",
       "      <td>0.142250</td>\n",
       "      <td>0.020</td>\n",
       "      <td>0.603975</td>\n",
       "    </tr>\n",
       "    <tr>\n",
       "      <th>100movies365days</th>\n",
       "      <td>0.061667</td>\n",
       "      <td>0.038972</td>\n",
       "      <td>0.189528</td>\n",
       "      <td>0.097000</td>\n",
       "      <td>0.096</td>\n",
       "      <td>-0.092800</td>\n",
       "    </tr>\n",
       "  </tbody>\n",
       "</table>\n",
       "</div>"
      ],
      "text/plain": [
       "                  OUT_VADER_POS  OUT_VADER_NEG  OUT_VADER_COMPOUND  \\\n",
       "07scape                0.119500       0.078000            0.984300   \n",
       "0magick                0.074000       0.051000            0.674200   \n",
       "0x10c                  0.156750       0.008250            0.614900   \n",
       "100daysofketo          0.148200       0.062100            0.723480   \n",
       "100movies365days       0.061667       0.038972            0.189528   \n",
       "\n",
       "                  IN_VADER_POS  IN_VADER_NEG  IN_VADER_COMPOUND  \n",
       "07scape               0.138667         0.063           0.692067  \n",
       "0magick               0.095000         0.067           0.296000  \n",
       "0x10c                 0.144000         0.000           0.636000  \n",
       "100daysofketo         0.142250         0.020           0.603975  \n",
       "100movies365days      0.097000         0.096          -0.092800  "
      ]
     },
     "execution_count": 48,
     "metadata": {},
     "output_type": "execute_result"
    }
   ],
   "source": [
    "#instead of working with two seperate dataframes I want to have them all in one\n",
    "#first changing column names then combining into one dataframe\n",
    "out_sentiment.columns=['OUT_VADER_POS','OUT_VADER_NEG','OUT_VADER_COMPOUND']\n",
    "in_sentiment.columns=['IN_VADER_POS', 'IN_VADER_NEG','IN_VADER_COMPOUND']\n",
    "\n",
    "df_subreddits = out_sentiment.join(in_sentiment, how='outer').dropna()\n",
    "\n",
    "df_subreddits.head()"
   ]
  },
  {
   "cell_type": "code",
   "execution_count": 49,
   "id": "5164a0e0-956f-4462-a528-3615d0e18d1d",
   "metadata": {},
   "outputs": [
    {
     "data": {
      "text/html": [
       "<div>\n",
       "<style scoped>\n",
       "    .dataframe tbody tr th:only-of-type {\n",
       "        vertical-align: middle;\n",
       "    }\n",
       "\n",
       "    .dataframe tbody tr th {\n",
       "        vertical-align: top;\n",
       "    }\n",
       "\n",
       "    .dataframe thead th {\n",
       "        text-align: right;\n",
       "    }\n",
       "</style>\n",
       "<table border=\"1\" class=\"dataframe\">\n",
       "  <thead>\n",
       "    <tr style=\"text-align: right;\">\n",
       "      <th></th>\n",
       "      <th>OUT_VADER_POS</th>\n",
       "      <th>OUT_VADER_NEG</th>\n",
       "      <th>OUT_VADER_COMPOUND</th>\n",
       "      <th>IN_VADER_POS</th>\n",
       "      <th>IN_VADER_NEG</th>\n",
       "      <th>IN_VADER_COMPOUND</th>\n",
       "      <th>OUT_LABEL</th>\n",
       "      <th>IN_LABEL</th>\n",
       "    </tr>\n",
       "  </thead>\n",
       "  <tbody>\n",
       "    <tr>\n",
       "      <th>07scape</th>\n",
       "      <td>0.119500</td>\n",
       "      <td>0.078000</td>\n",
       "      <td>0.984300</td>\n",
       "      <td>0.138667</td>\n",
       "      <td>0.063</td>\n",
       "      <td>0.692067</td>\n",
       "      <td>positive</td>\n",
       "      <td>positive</td>\n",
       "    </tr>\n",
       "    <tr>\n",
       "      <th>0magick</th>\n",
       "      <td>0.074000</td>\n",
       "      <td>0.051000</td>\n",
       "      <td>0.674200</td>\n",
       "      <td>0.095000</td>\n",
       "      <td>0.067</td>\n",
       "      <td>0.296000</td>\n",
       "      <td>positive</td>\n",
       "      <td>positive</td>\n",
       "    </tr>\n",
       "    <tr>\n",
       "      <th>0x10c</th>\n",
       "      <td>0.156750</td>\n",
       "      <td>0.008250</td>\n",
       "      <td>0.614900</td>\n",
       "      <td>0.144000</td>\n",
       "      <td>0.000</td>\n",
       "      <td>0.636000</td>\n",
       "      <td>positive</td>\n",
       "      <td>positive</td>\n",
       "    </tr>\n",
       "    <tr>\n",
       "      <th>100daysofketo</th>\n",
       "      <td>0.148200</td>\n",
       "      <td>0.062100</td>\n",
       "      <td>0.723480</td>\n",
       "      <td>0.142250</td>\n",
       "      <td>0.020</td>\n",
       "      <td>0.603975</td>\n",
       "      <td>positive</td>\n",
       "      <td>positive</td>\n",
       "    </tr>\n",
       "    <tr>\n",
       "      <th>100movies365days</th>\n",
       "      <td>0.061667</td>\n",
       "      <td>0.038972</td>\n",
       "      <td>0.189528</td>\n",
       "      <td>0.097000</td>\n",
       "      <td>0.096</td>\n",
       "      <td>-0.092800</td>\n",
       "      <td>positive</td>\n",
       "      <td>neutral</td>\n",
       "    </tr>\n",
       "  </tbody>\n",
       "</table>\n",
       "</div>"
      ],
      "text/plain": [
       "                  OUT_VADER_POS  OUT_VADER_NEG  OUT_VADER_COMPOUND  \\\n",
       "07scape                0.119500       0.078000            0.984300   \n",
       "0magick                0.074000       0.051000            0.674200   \n",
       "0x10c                  0.156750       0.008250            0.614900   \n",
       "100daysofketo          0.148200       0.062100            0.723480   \n",
       "100movies365days       0.061667       0.038972            0.189528   \n",
       "\n",
       "                  IN_VADER_POS  IN_VADER_NEG  IN_VADER_COMPOUND OUT_LABEL  \\\n",
       "07scape               0.138667         0.063           0.692067  positive   \n",
       "0magick               0.095000         0.067           0.296000  positive   \n",
       "0x10c                 0.144000         0.000           0.636000  positive   \n",
       "100daysofketo         0.142250         0.020           0.603975  positive   \n",
       "100movies365days      0.097000         0.096          -0.092800  positive   \n",
       "\n",
       "                  IN_LABEL  \n",
       "07scape           positive  \n",
       "0magick           positive  \n",
       "0x10c             positive  \n",
       "100daysofketo     positive  \n",
       "100movies365days   neutral  "
      ]
     },
     "execution_count": 49,
     "metadata": {},
     "output_type": "execute_result"
    }
   ],
   "source": [
    "#Making a basic classification. Might change later based on analysis\n",
    "def classify_sent(compound):\n",
    "    if compound>0.1:\n",
    "        return 'positive'\n",
    "    elif compound<-0.1:\n",
    "        return 'negative'\n",
    "    else:\n",
    "        return 'neutral'\n",
    "\n",
    "df_subreddits['OUT_LABEL'] = df_subreddits['OUT_VADER_COMPOUND'].apply(classify_sent)\n",
    "df_subreddits['IN_LABEL'] = df_subreddits['IN_VADER_COMPOUND'].apply(classify_sent)\n",
    "\n",
    "df_subreddits.head()"
   ]
  },
  {
   "cell_type": "code",
   "execution_count": 51,
   "id": "bc38da2d-b553-4246-b421-c9e630cec757",
   "metadata": {},
   "outputs": [
    {
     "data": {
      "text/plain": [
       "OUT_LABEL\n",
       "positive    9522\n",
       "negative    1406\n",
       "neutral      798\n",
       "Name: count, dtype: int64"
      ]
     },
     "execution_count": 51,
     "metadata": {},
     "output_type": "execute_result"
    }
   ],
   "source": [
    "#looking at totals of labels\n",
    "df_subreddits['OUT_LABEL'].value_counts()"
   ]
  },
  {
   "cell_type": "code",
   "execution_count": 52,
   "id": "d69dbaec-67ed-46e3-8997-0a1dbed3c6c1",
   "metadata": {},
   "outputs": [
    {
     "data": {
      "text/plain": [
       "IN_LABEL\n",
       "positive    9163\n",
       "negative    1710\n",
       "neutral      853\n",
       "Name: count, dtype: int64"
      ]
     },
     "execution_count": 52,
     "metadata": {},
     "output_type": "execute_result"
    }
   ],
   "source": [
    "df_subreddits['IN_LABEL'].value_counts()"
   ]
  },
  {
   "cell_type": "markdown",
   "id": "28008215-55e8-45f5-885f-cc1adce419bb",
   "metadata": {},
   "source": [
    "<h2>Community Analysis of Graph</h2>"
   ]
  },
  {
   "cell_type": "code",
   "execution_count": 53,
   "id": "d63b9a5f-e717-4feb-9c76-1e24990e1a7e",
   "metadata": {},
   "outputs": [
    {
     "name": "stdout",
     "output_type": "stream",
     "text": [
      "Number of communities: 855\n",
      "Sizes of communities: [10135, 8398, 6135, 1653, 1327, 1086, 859, 601, 396, 331, 290, 274, 245, 243, 233, 192, 160, 128, 101, 88, 72, 66, 62, 52, 47, 42, 42, 41, 39, 35, 32, 28, 27, 23, 23, 21, 20, 20, 19, 17, 16, 15, 14, 13, 12, 12, 12, 12, 11, 11, 10, 10, 9, 9, 9, 9, 9, 8, 8, 8, 8, 7, 7, 7, 7, 7, 7, 7, 7, 7, 6, 6, 6, 6, 6, 6, 6, 6, 6, 6, 6, 6, 6, 6, 5, 5, 5, 5, 5, 5, 5, 5, 5, 5, 5, 5, 5, 5, 5, 5, 5, 5, 5, 5, 5, 5, 5, 5, 5, 5, 5, 5, 5, 4, 4, 4, 4, 4, 4, 4, 4, 4, 4, 4, 4, 4, 4, 4, 4, 4, 4, 4, 4, 4, 4, 4, 4, 4, 4, 4, 4, 4, 4, 4, 3, 3, 3, 3, 3, 3, 3, 3, 3, 3, 3, 3, 3, 3, 3, 3, 3, 3, 3, 3, 3, 3, 3, 3, 3, 3, 3, 3, 3, 3, 3, 3, 3, 3, 3, 3, 3, 3, 3, 3, 3, 3, 3, 3, 3, 3, 3, 3, 3, 3, 3, 3, 3, 3, 3, 3, 3, 3, 3, 3, 3, 3, 3, 3, 3, 3, 3, 3, 3, 3, 3, 3, 3, 3, 3, 3, 3, 3, 3, 3, 3, 3, 3, 3, 3, 3, 3, 3, 3, 3, 3, 3, 3, 3, 3, 3, 3, 3, 3, 3, 3, 3, 3, 3, 3, 3, 3, 3, 3, 3, 2, 2, 2, 2, 2, 2, 2, 2, 2, 2, 2, 2, 2, 2, 2, 2, 2, 2, 2, 2, 2, 2, 2, 2, 2, 2, 2, 2, 2, 2, 2, 2, 2, 2, 2, 2, 2, 2, 2, 2, 2, 2, 2, 2, 2, 2, 2, 2, 2, 2, 2, 2, 2, 2, 2, 2, 2, 2, 2, 2, 2, 2, 2, 2, 2, 2, 2, 2, 2, 2, 2, 2, 2, 2, 2, 2, 2, 2, 2, 2, 2, 2, 2, 2, 2, 2, 2, 2, 2, 2, 2, 2, 2, 2, 2, 2, 2, 2, 2, 2, 2, 2, 2, 2, 2, 2, 2, 2, 2, 2, 2, 2, 2, 2, 2, 2, 2, 2, 2, 2, 2, 2, 2, 2, 2, 2, 2, 2, 2, 2, 2, 2, 2, 2, 2, 2, 2, 2, 2, 2, 2, 2, 2, 2, 2, 2, 2, 2, 2, 2, 2, 2, 2, 2, 2, 2, 2, 2, 2, 2, 2, 2, 2, 2, 2, 2, 2, 2, 2, 2, 2, 2, 2, 2, 2, 2, 2, 2, 2, 2, 2, 2, 2, 2, 2, 2, 2, 2, 2, 2, 2, 2, 2, 2, 2, 2, 2, 2, 2, 2, 2, 2, 2, 2, 2, 2, 2, 2, 2, 2, 2, 2, 2, 2, 2, 2, 2, 2, 2, 2, 2, 2, 2, 2, 2, 2, 2, 2, 2, 2, 2, 2, 2, 2, 2, 2, 2, 2, 2, 2, 2, 2, 2, 2, 2, 2, 2, 2, 2, 2, 2, 2, 2, 2, 2, 2, 2, 2, 2, 2, 2, 2, 2, 2, 2, 2, 2, 2, 2, 2, 2, 2, 2, 2, 2, 2, 2, 2, 2, 2, 2, 2, 2, 2, 2, 2, 2, 2, 2, 2, 2, 2, 2, 2, 2, 2, 2, 2, 2, 2, 2, 2, 2, 2, 2, 2, 2, 2, 2, 2, 2, 2, 2, 2, 2, 2, 2, 2, 2, 2, 2, 2, 2, 2, 2, 2, 2, 2, 2, 2, 2, 2, 2, 2, 2, 2, 2, 2, 2, 2, 2, 2, 2, 2, 2, 2, 2, 2, 2, 2, 2, 2, 2, 2, 2, 2, 2, 2, 2, 2, 2, 2, 2, 2, 2, 2, 2, 2, 2, 2, 2, 2, 2, 2, 2, 2, 2, 2, 2, 2, 2, 2, 2, 2, 2, 2, 2, 2, 2, 2, 2, 2, 2, 2, 2, 2, 2, 2, 2, 2, 2, 2, 2, 2, 2, 2, 2, 2, 2, 2, 2, 2, 2, 2, 2, 2, 2, 2, 2, 2, 2, 2, 2, 2, 2, 2, 2, 2, 2, 2, 2, 2, 2, 2, 2, 2, 2, 2, 2, 2, 2, 2, 2, 2, 2, 2, 2, 2, 2, 2, 2, 2, 2, 2, 2, 2, 2, 2, 2, 2, 2, 2, 2, 2, 2, 2, 2, 2, 2, 2, 2, 2, 2, 2, 2, 2, 2, 2, 2, 2, 2, 2, 2, 2, 2, 2, 2, 2, 2, 2, 2, 2, 2, 2, 2, 2, 2, 2, 2, 2, 2, 2, 2, 2, 2, 2, 2, 2, 2, 2, 2, 2, 2, 2, 2, 2, 2, 2, 2, 2, 2, 2, 2, 2, 2, 2, 2, 2, 2, 2, 2, 2, 2, 2, 2, 2, 2, 2, 2, 2, 2, 2, 2, 2, 2, 2, 2, 2, 2, 2, 2, 2, 2, 2, 2, 2, 2, 2, 2, 2, 2, 2, 2, 2, 2, 2, 2, 2, 2, 2, 2, 2, 2, 2, 2, 2, 2, 2, 2, 2, 2, 2, 2, 2, 2, 2, 2, 2, 2, 2, 2, 2, 2, 2, 2, 2, 2, 2, 2, 2, 2]\n"
     ]
    }
   ],
   "source": [
    "#using greedy modularity communities begin to look at communities within the larger network\n",
    "from networkx.algorithms.community import greedy_modularity_communities\n",
    "communities = list(greedy_modularity_communities(g))\n",
    "print(\"Number of communities:\",len(communities))\n",
    "sizes_of_communities = [len(comm) for comm in communities]\n",
    "print(\"Sizes of communities:\",sizes_of_communities)"
   ]
  },
  {
   "cell_type": "markdown",
   "id": "c63be44a-1ca8-49b1-a733-6b54105a0a67",
   "metadata": {},
   "source": [
    "<h5>Seeing the large amount of small networks. Focus shifted to top 5 communities</h5>"
   ]
  },
  {
   "cell_type": "code",
   "execution_count": 54,
   "id": "c8e6816a-2d6d-4784-9086-7b94e6943b81",
   "metadata": {},
   "outputs": [
    {
     "data": {
      "text/plain": [
       "5"
      ]
     },
     "execution_count": 54,
     "metadata": {},
     "output_type": "execute_result"
    }
   ],
   "source": [
    "#looking to the top 5 largest communities\n",
    "sorted_communities = sorted(communities, key=len, reverse=True)\n",
    "\n",
    "#assign these to values for analysis later\n",
    "top_communities = sorted_communities[:5]\n",
    "\n",
    "len(top_communities)"
   ]
  },
  {
   "cell_type": "code",
   "execution_count": 55,
   "id": "d3d329a7-b484-4290-8978-043ccbef2c58",
   "metadata": {},
   "outputs": [
    {
     "name": "stdout",
     "output_type": "stream",
     "text": [
      "DiGraph with 10135 nodes and 47849 edges\n",
      "DiGraph with 8398 nodes and 25340 edges\n",
      "DiGraph with 6135 nodes and 13374 edges\n",
      "DiGraph with 1653 nodes and 2697 edges\n",
      "DiGraph with 1327 nodes and 2311 edges\n"
     ]
    }
   ],
   "source": [
    "#turning communities into networkx subgraphs\n",
    "top_communities_nx = {}\n",
    "for index, comm in enumerate(top_communities):\n",
    "    top_communities_nx[index] = g.subgraph(comm).copy()\n",
    "    print(top_communities_nx[index])\n"
   ]
  },
  {
   "cell_type": "code",
   "execution_count": 56,
   "id": "1f2c725a-93f5-4f2c-bf97-8bc9ef53c92f",
   "metadata": {},
   "outputs": [
    {
     "name": "stdout",
     "output_type": "stream",
     "text": [
      "Community 1\n",
      "Mean 9.442328564380858\n",
      "Max 1556\n",
      "Min 1\n",
      "Standard Deviation: 36.75519091644042\n",
      "\n",
      "\n",
      "Community 2\n",
      "Mean 6.0347701833769944\n",
      "Max 626\n",
      "Min 1\n",
      "Standard Deviation: 21.117206141576165\n",
      "\n",
      "\n",
      "Community 3\n",
      "Mean 4.359902200488998\n",
      "Max 704\n",
      "Min 1\n",
      "Standard Deviation: 17.89896181051476\n",
      "\n",
      "\n",
      "Community 4\n",
      "Mean 3.263157894736842\n",
      "Max 187\n",
      "Min 1\n",
      "Standard Deviation: 8.00788050743068\n",
      "\n",
      "\n",
      "Community 5\n",
      "Mean 3.4830444611906555\n",
      "Max 443\n",
      "Min 1\n",
      "Standard Deviation: 14.68440592320782\n",
      "\n",
      "\n"
     ]
    }
   ],
   "source": [
    "#basic analysis of degrees for each of the top five communities\n",
    "for i in range(5):\n",
    "    print(\"Community\",i+1)\n",
    "    degrees = [d for _, d in top_communities_nx[i].degree()]\n",
    "    print(\"Mean\",np.mean(degrees))\n",
    "    print(\"Max\",np.max(degrees))\n",
    "    print(\"Min\",np.min(degrees))\n",
    "    print(\"Standard Deviation:\", np.std(degrees))\n",
    "    print(\"\\n\")"
   ]
  },
  {
   "cell_type": "markdown",
   "id": "5924a3c3-9f02-483b-8d9d-2aa1527455f4",
   "metadata": {},
   "source": [
    "<h2>Visualization of Network</h2>"
   ]
  },
  {
   "cell_type": "code",
   "execution_count": null,
   "id": "a350fe50-4c17-41dd-a583-661bfff15ea2",
   "metadata": {},
   "outputs": [],
   "source": [
    "#This takes a while...consider only visualizing communities?\n",
    "\n",
    "import scipy\n",
    "import community\n",
    "plt.figure(figsize=(16, 12))\n",
    "\n",
    "un_g = g.to_undirected()\n",
    "\n",
    "partition = community.best_partition(un_g)\n",
    "\n",
    "#drawing\n",
    "size = float(len(set(partition.values())))\n",
    "pos = nx.spring_layout(un_g, k=0.1, iterations=20)\n",
    "node_list = list(partition.keys())\n",
    "node_colors = list(partition.values())\n",
    "    \n",
    "nx.draw_networkx_nodes(un_g, pos, node_list, node_size=40, \n",
    "                       # the arguments below here make each community a different color\n",
    "                       vmin=0, vmax=size,\n",
    "                       node_color=node_colors, cmap=plt.cm.tab20)\n",
    "    #print(count)\n",
    "nx.draw_networkx_edges(un_g, pos, alpha=0.5)\n",
    "plt.show()"
   ]
  },
  {
   "cell_type": "markdown",
   "id": "d98f8bbb-dc99-45f0-bc2a-673392aaa653",
   "metadata": {},
   "source": [
    "<h4>Considering Switching to another Visualization method</h4>"
   ]
  },
  {
   "cell_type": "code",
   "execution_count": null,
   "id": "251b2e41-b004-4442-b6bc-d4e267285658",
   "metadata": {},
   "outputs": [],
   "source": []
  }
 ],
 "metadata": {
  "kernelspec": {
   "display_name": "Python 3 (ipykernel)",
   "language": "python",
   "name": "python3"
  },
  "language_info": {
   "codemirror_mode": {
    "name": "ipython",
    "version": 3
   },
   "file_extension": ".py",
   "mimetype": "text/x-python",
   "name": "python",
   "nbconvert_exporter": "python",
   "pygments_lexer": "ipython3",
   "version": "3.13.3"
  }
 },
 "nbformat": 4,
 "nbformat_minor": 5
}
