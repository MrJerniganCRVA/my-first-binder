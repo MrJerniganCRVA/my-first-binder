{
 "cells": [
  {
   "cell_type": "code",
   "execution_count": 1,
   "metadata": {},
   "outputs": [
    {
     "name": "stderr",
     "output_type": "stream",
     "text": [
      "[nltk_data] Downloading package punkt to /Users/pbutler/nltk_data...\n",
      "[nltk_data]   Package punkt is already up-to-date!\n",
      "[nltk_data] Downloading package averaged_perceptron_tagger to\n",
      "[nltk_data]     /Users/pbutler/nltk_data...\n",
      "[nltk_data]   Package averaged_perceptron_tagger is already up-to-\n",
      "[nltk_data]       date!\n",
      "[nltk_data] Downloading package universal_tagset to\n",
      "[nltk_data]     /Users/pbutler/nltk_data...\n",
      "[nltk_data]   Package universal_tagset is already up-to-date!\n",
      "[nltk_data] Downloading package maxent_ne_chunker to\n",
      "[nltk_data]     /Users/pbutler/nltk_data...\n",
      "[nltk_data]   Package maxent_ne_chunker is already up-to-date!\n",
      "[nltk_data] Downloading package words to /Users/pbutler/nltk_data...\n",
      "[nltk_data]   Package words is already up-to-date!\n",
      "[nltk_data] Downloading package treebank to\n",
      "[nltk_data]     /Users/pbutler/nltk_data...\n",
      "[nltk_data]   Package treebank is already up-to-date!\n",
      "[nltk_data] Downloading package stopwords to\n",
      "[nltk_data]     /Users/pbutler/nltk_data...\n",
      "[nltk_data]   Package stopwords is already up-to-date!\n"
     ]
    },
    {
     "data": {
      "text/plain": [
       "True"
      ]
     },
     "execution_count": 1,
     "metadata": {},
     "output_type": "execute_result"
    }
   ],
   "source": [
    "%matplotlib inline\n",
    "import nltk\n",
    "import pandas as pd\n",
    "# these lines download the models and really only need to be run once ever\n",
    "nltk.download('punkt')\n",
    "nltk.download('averaged_perceptron_tagger')\n",
    "nltk.download('universal_tagset')\n",
    "nltk.download('maxent_ne_chunker')\n",
    "nltk.download('words') \n",
    "nltk.download('treebank')\n",
    "nltk.download('stopwords')"
   ]
  },
  {
   "cell_type": "code",
   "execution_count": 2,
   "metadata": {},
   "outputs": [],
   "source": [
    "with open('news_1.txt') as f:\n",
    "    news = f.read().strip()"
   ]
  },
  {
   "cell_type": "markdown",
   "metadata": {},
   "source": [
    "# Word Tokenization"
   ]
  },
  {
   "cell_type": "code",
   "execution_count": 3,
   "metadata": {
    "collapsed": false,
    "jupyter": {
     "outputs_hidden": false
    }
   },
   "outputs": [
    {
     "name": "stdout",
     "output_type": "stream",
     "text": [
      "['What', 'is', 'a', 'Hokie', '?', 'The', 'origin', 'of', 'the', 'word']\n"
     ]
    }
   ],
   "source": [
    "words = nltk.word_tokenize(news)\n",
    "print(words[0:10])"
   ]
  },
  {
   "cell_type": "markdown",
   "metadata": {},
   "source": [
    "# Sentence Tokenization"
   ]
  },
  {
   "cell_type": "code",
   "execution_count": 4,
   "metadata": {
    "collapsed": false,
    "jupyter": {
     "outputs_hidden": false
    }
   },
   "outputs": [
    {
     "name": "stdout",
     "output_type": "stream",
     "text": [
      "SENTENCE 0 IS : What is a Hokie?\n",
      "SENTENCE 1 IS : The origin of the word \"Hokie\" has nothing to do with a turkey.\n",
      "SENTENCE 2 IS : It was coined by O.M.\n",
      "SENTENCE 3 IS : Stull (class of 1896), who used it in a spirit yell he wrote for a competition.\n",
      "SENTENCE 4 IS : Here's how that competition came to be.\n",
      "SENTENCE 5 IS : Virginia Tech was founded in 1872 as a land-grant institution and was named Virginia Agricultural and Mechanical College.\n",
      "SENTENCE 6 IS : In 1896, the Virginia General Assembly officially changed the college's name to Virginia Agricultural and Mechanical College and Polytechnic Institute, a name so long that people shortened it in popular usage to VPI.\n",
      "SENTENCE 7 IS : The original college cheer, which made reference to the original name of the institution, was no longer suitable.\n",
      "SENTENCE 8 IS : So a contest was held to select a new spirit yell, and Stull won the $5 top prize for his cheer, now known as Old Hokie:\n",
      "\n",
      "Hoki, Hoki, Hoki, Hy.\n",
      "SENTENCE 9 IS : Techs, Techs, V.P.I.\n",
      "SENTENCE 10 IS : Sola-Rex, Sola-Rah.\n",
      "SENTENCE 11 IS : Polytechs - Vir-gin-ia.\n",
      "SENTENCE 12 IS : Rae, Ri, V.P.I.\n",
      "SENTENCE 13 IS : Later, the phrase \"Team!\n",
      "SENTENCE 14 IS : Team!\n",
      "SENTENCE 15 IS : Team!\"\n",
      "SENTENCE 16 IS : was added at the end, and an \"e\" was added to \"Hoki.\"\n"
     ]
    }
   ],
   "source": [
    "sents = nltk.sent_tokenize(news)\n",
    "for i, sent in enumerate(sents):\n",
    "    print('SENTENCE {} IS : {}'.format(i,sent))"
   ]
  },
  {
   "cell_type": "markdown",
   "metadata": {},
   "source": [
    "# Stopword Removal"
   ]
  },
  {
   "cell_type": "code",
   "execution_count": 5,
   "metadata": {
    "collapsed": false,
    "jupyter": {
     "outputs_hidden": false
    }
   },
   "outputs": [
    {
     "name": "stdout",
     "output_type": "stream",
     "text": [
      "SENTENCE 0 WITHOUT STOPWORDS: hokie?\n",
      "SENTENCE 1 WITHOUT STOPWORDS: origin word \"hokie\" nothing turkey.\n",
      "SENTENCE 2 WITHOUT STOPWORDS: coined o.m.\n",
      "SENTENCE 3 WITHOUT STOPWORDS: stull (class 1896), used spirit yell wrote competition.\n",
      "SENTENCE 4 WITHOUT STOPWORDS: here's competition came be.\n",
      "SENTENCE 5 WITHOUT STOPWORDS: virginia tech founded 1872 land-grant institution named virginia agricultural mechanical college.\n",
      "SENTENCE 6 WITHOUT STOPWORDS: 1896, virginia general assembly officially changed college's name virginia agricultural mechanical college polytechnic institute, name long people shortened popular usage vpi.\n",
      "SENTENCE 7 WITHOUT STOPWORDS: original college cheer, made reference original name institution, longer suitable.\n",
      "SENTENCE 8 WITHOUT STOPWORDS: contest held select new spirit yell, stull $5 top prize cheer, known old hokie: hoki, hoki, hoki, hy.\n",
      "SENTENCE 9 WITHOUT STOPWORDS: techs, techs, v.p.i.\n",
      "SENTENCE 10 WITHOUT STOPWORDS: sola-rex, sola-rah.\n",
      "SENTENCE 11 WITHOUT STOPWORDS: polytechs - vir-gin-ia.\n",
      "SENTENCE 12 WITHOUT STOPWORDS: rae, ri, v.p.i.\n",
      "SENTENCE 13 WITHOUT STOPWORDS: later, phrase \"team!\n",
      "SENTENCE 14 WITHOUT STOPWORDS: team!\n",
      "SENTENCE 15 WITHOUT STOPWORDS: team!\"\n",
      "SENTENCE 16 WITHOUT STOPWORDS: added end, \"e\" added \"hoki.\"\n"
     ]
    }
   ],
   "source": [
    "from nltk.corpus import stopwords\n",
    "sws = set(stopwords.words('english'))\n",
    "for j,sent in enumerate(sents):\n",
    "    print('SENTENCE {} WITHOUT STOPWORDS: {}'.format(j, ' '.join([i for i in sent.lower().split() if i not in sws])))"
   ]
  },
  {
   "cell_type": "markdown",
   "metadata": {},
   "source": [
    "# POS Tag"
   ]
  },
  {
   "cell_type": "code",
   "execution_count": 6,
   "metadata": {
    "collapsed": false,
    "jupyter": {
     "outputs_hidden": false
    }
   },
   "outputs": [
    {
     "name": "stdout",
     "output_type": "stream",
     "text": [
      "[('What', 'WP'), ('is', 'VBZ'), ('a', 'DT'), ('Hokie', 'NNP'), ('?', '.'), ('The', 'DT'), ('origin', 'NN'), ('of', 'IN'), ('the', 'DT'), ('word', 'NN')]\n"
     ]
    }
   ],
   "source": [
    "tagged_tokens = nltk.pos_tag(words)\n",
    "print(tagged_tokens[0:10])"
   ]
  },
  {
   "cell_type": "code",
   "execution_count": 7,
   "metadata": {
    "collapsed": false,
    "jupyter": {
     "outputs_hidden": false
    }
   },
   "outputs": [
    {
     "name": "stdout",
     "output_type": "stream",
     "text": [
      "[('What', 'PRON'), ('is', 'VERB'), ('a', 'DET'), ('Hokie', 'NOUN'), ('?', '.'), ('The', 'DET'), ('origin', 'NOUN'), ('of', 'ADP'), ('the', 'DET'), ('word', 'NOUN')]\n"
     ]
    }
   ],
   "source": [
    "tagged_tokens = nltk.pos_tag(words, tagset='universal')\n",
    "print(tagged_tokens[0:10])"
   ]
  },
  {
   "cell_type": "markdown",
   "metadata": {},
   "source": [
    "# Named-Entity Extraction"
   ]
  },
  {
   "cell_type": "code",
   "execution_count": 8,
   "metadata": {},
   "outputs": [],
   "source": [
    "from collections import defaultdict\n",
    "def nltk_entities(text):\n",
    "    \"\"\"\n",
    "    Extract entities using the NLTK named entity chunker.\n",
    "    \"\"\"\n",
    "    text = nltk.pos_tag(nltk.word_tokenize(text))\n",
    "    results = defaultdict(list)\n",
    "    lst_results = []\n",
    "    for entity in nltk.ne_chunk(text):\n",
    "        if isinstance(entity, nltk.tree.Tree):\n",
    "            etext = \" \".join([word for word, tag in entity.leaves()])\n",
    "            label = entity.label()\n",
    "        else:\n",
    "            continue\n",
    "\n",
    "        if label == 'PERSON':\n",
    "            key = 'persons'\n",
    "        elif label == 'ORGANIZATION':\n",
    "            key = 'organizations'\n",
    "        elif label == 'LOCATION':\n",
    "            key = 'locations'\n",
    "        elif label == 'GPE':\n",
    "            key = 'other'\n",
    "        else:\n",
    "            key = None\n",
    "\n",
    "        if key:\n",
    "            results[key].append(etext)\n",
    "            lst_results.append(etext)\n",
    "\n",
    "    return lst_results"
   ]
  },
  {
   "cell_type": "code",
   "execution_count": 9,
   "metadata": {
    "collapsed": false,
    "jupyter": {
     "outputs_hidden": false
    }
   },
   "outputs": [
    {
     "name": "stdout",
     "output_type": "stream",
     "text": [
      "Named-Entities in sentence 0: []\n",
      "Named-Entities in sentence 1: []\n",
      "Named-Entities in sentence 2: []\n",
      "Named-Entities in sentence 3: ['Stull']\n",
      "Named-Entities in sentence 4: []\n",
      "Named-Entities in sentence 5: ['Virginia', 'Tech', 'Virginia Agricultural', 'Mechanical College']\n",
      "Named-Entities in sentence 6: ['Virginia', 'Virginia', 'Mechanical College', 'Polytechnic Institute', 'VPI']\n",
      "Named-Entities in sentence 7: []\n",
      "Named-Entities in sentence 8: ['Stull', 'Old', 'Hoki', 'Hoki', 'Hoki', 'Hy']\n",
      "Named-Entities in sentence 9: ['Techs', 'Techs']\n",
      "Named-Entities in sentence 10: []\n",
      "Named-Entities in sentence 11: ['Polytechs']\n",
      "Named-Entities in sentence 12: ['Rae', 'Ri']\n",
      "Named-Entities in sentence 13: []\n",
      "Named-Entities in sentence 14: ['Team']\n",
      "Named-Entities in sentence 15: ['Team']\n",
      "Named-Entities in sentence 16: []\n"
     ]
    }
   ],
   "source": [
    "for i,sent in enumerate(sents):\n",
    "    print(\"Named-Entities in sentence {}: {}\".format(i,nltk_entities(sent)))"
   ]
  },
  {
   "cell_type": "markdown",
   "metadata": {},
   "source": [
    "# Word Stemming"
   ]
  },
  {
   "cell_type": "code",
   "execution_count": 10,
   "metadata": {
    "collapsed": false,
    "jupyter": {
     "outputs_hidden": false
    }
   },
   "outputs": [
    {
     "name": "stdout",
     "output_type": "stream",
     "text": [
      "SENTENCE 0 WITH STEMMING: what is a hokie?\n",
      "SENTENCE 1 WITH STEMMING: the origin of the word \"hokie\" ha noth to do with a turkey.\n",
      "SENTENCE 2 WITH STEMMING: it wa coin by o.m.\n",
      "SENTENCE 3 WITH STEMMING: stull (class of 1896), who use it in a spirit yell he wrote for a competition.\n",
      "SENTENCE 4 WITH STEMMING: here' how that competit came to be.\n",
      "SENTENCE 5 WITH STEMMING: virginia tech wa found in 1872 as a land-grant institut and wa name virginia agricultur and mechan college.\n",
      "SENTENCE 6 WITH STEMMING: in 1896, the virginia gener assembl offici chang the college' name to virginia agricultur and mechan colleg and polytechn institute, a name so long that peopl shorten it in popular usag to vpi.\n",
      "SENTENCE 7 WITH STEMMING: the origin colleg cheer, which made refer to the origin name of the institution, wa no longer suitable.\n",
      "SENTENCE 8 WITH STEMMING: so a contest wa held to select a new spirit yell, and stull won the $5 top prize for hi cheer, now known as old hokie: hoki, hoki, hoki, hy.\n",
      "SENTENCE 9 WITH STEMMING: techs, techs, v.p.i.\n",
      "SENTENCE 10 WITH STEMMING: sola-rex, sola-rah.\n",
      "SENTENCE 11 WITH STEMMING: polytech - vir-gin-ia.\n",
      "SENTENCE 12 WITH STEMMING: rae, ri, v.p.i.\n",
      "SENTENCE 13 WITH STEMMING: later, the phrase \"team!\n",
      "SENTENCE 14 WITH STEMMING: team!\n",
      "SENTENCE 15 WITH STEMMING: team!\"\n",
      "SENTENCE 16 WITH STEMMING: wa ad at the end, and an \"e\" wa ad to \"hoki.\"\n"
     ]
    }
   ],
   "source": [
    "from nltk.stem.porter import *\n",
    "stemmer = PorterStemmer()\n",
    "for j,sent in enumerate(sents):\n",
    "    print('SENTENCE {} WITH STEMMING: {}'.format(j, ' '.join([stemmer.stem(i) for i in sent.lower().split()])))"
   ]
  },
  {
   "cell_type": "markdown",
   "metadata": {},
   "source": [
    "# Twitter Analysis\n",
    "\n",
    "Besides the examples here it's worth reading the documentation on extended tweets [here](http://docs.tweepy.org/en/latest/extended_tweets.html).  Additionally you will have to supply your own credentials in the cells below."
   ]
  },
  {
   "cell_type": "code",
   "execution_count": 11,
   "metadata": {},
   "outputs": [],
   "source": [
    "from tweepy import Stream\n",
    "from tweepy import OAuthHandler\n",
    "import json\n",
    "import tweepy\n",
    "\n",
    "# --\n",
    "# Note : if conda install tweepy fails\n",
    "# Try : pip install tweepy\n",
    "# you might also try running (once and only once) in a notebook\n",
    "# import pip\n",
    "# pip.main([\"install\", \"tweepy\"])\n",
    "# --"
   ]
  },
  {
   "cell_type": "markdown",
   "metadata": {},
   "source": [
    "Streaming live tweets"
   ]
  },
  {
   "cell_type": "code",
   "execution_count": 12,
   "metadata": {},
   "outputs": [],
   "source": [
    "bearer = \"PUT YOUR BEARER TOKEN HERE\""
   ]
  },
  {
   "cell_type": "markdown",
   "metadata": {},
   "source": [
    "This is the streaming example and will continue until you interrupt it or hits 10 tweets.  It will stream tweets in real time."
   ]
  },
  {
   "cell_type": "code",
   "execution_count": 13,
   "metadata": {
    "collapsed": false,
    "jupyter": {
     "outputs_hidden": false
    }
   },
   "outputs": [
    {
     "name": "stdout",
     "output_type": "stream",
     "text": [
      "Checking for and deleting old_rules...\n",
      "Adding rules...\n",
      "Starting....\n",
      "2023-03-20 21:03:23+00:00: RT @beatleshourly: john with kittens &lt;3 https://t.co/aZmpu5NY61\n",
      "2023-03-20 21:03:25+00:00: RT @Foster_Fluff: #Ren and #Daffodil think they are the best hunters. #kittens #CatsOfTwitter https://t.co/F3wbwVf3Ma\n",
      "2023-03-20 21:03:31+00:00: curtam kittens https://t.co/vI789L8wdu\n",
      "2023-03-20 21:03:47+00:00: @VHKAnsfweer Lovely kittens :3\n",
      "2023-03-20 21:04:03+00:00: RT @jenniethinker: a babybearkitty who loves kittens a lot 🐱♡ https://t.co/RPu99f3pTB\n",
      "2023-03-20 21:04:07+00:00: RT @RescueCare: To All My Friends💖 Someone called me📞 and told me that there are four motherless kittens.😺😭🆘💔\n",
      "immersed in rainwater. I imme…\n",
      "2023-03-20 21:04:11+00:00: RT @Foster_Fluff: #Poppy tries to turn the milk bar into a playground. #Buttercup won’t have it 😂 #SoundOn 🔊 #kittens #CatsOfTwitter https:…\n",
      "2023-03-20 21:04:34+00:00: RT @Lawyer_Animal1: 🔄update\n",
      "We feed a lot of homeless cats in several areas, I tweeted about a sterilization campaign..I got 80.. left 120,…\n",
      "2023-03-20 21:04:44+00:00: RT @mitten_kittens: Mom said this is why we can't have nice things! 🙀🙀🙀😹😹😹😹😹😹\n",
      "#CatsOfTwitter\n",
      "#TeamBengal  #TeamBengalForever #BengalCat #Lo…\n"
     ]
    },
    {
     "name": "stderr",
     "output_type": "stream",
     "text": [
      "Stream connection closed by Twitter\n"
     ]
    },
    {
     "name": "stdout",
     "output_type": "stream",
     "text": [
      "2023-03-20 21:04:46+00:00: @jessica_kirsh @ivan4th @TractorSupply You need the drops based on Selamectin, such as this one, Stronghold https://t.co/IgQDtEahlw\n",
      "(not sure whether this brand is available in US, but likely there are similar preparations available)\n",
      "Note that the specified weight for the particular drug is important!\n"
     ]
    }
   ],
   "source": [
    "class Listener(tweepy.StreamingClient):\n",
    "    def __init__(self, bearer, maxtweets=10):\n",
    "        super().__init__(bearer)\n",
    "        self._maxtweets = maxtweets\n",
    "        self._ntweets = 0\n",
    "\n",
    "    def on_tweet(self, tweet):\n",
    "        text = tweet.text\n",
    "        print(\"{}: {}\".format(tweet.created_at, text))\n",
    "        self._ntweets += 1\n",
    "        if self._ntweets >= self._maxtweets:\n",
    "            self.disconnect() \n",
    "            \n",
    "twitterStream = Listener(bearer)\n",
    "\n",
    "#old rules are stored on the server so we delete them if they are there\n",
    "print(\"Checking for and deleting old_rules...\")\n",
    "old_rules = twitterStream.get_rules().data\n",
    "if old_rules:\n",
    "    old_rules = [rule.id for rule in old_rules]\n",
    "    twitterStream.delete_rules(old_rules)\n",
    "\n",
    "#add new rules\n",
    "print(\"Adding rules...\")\n",
    "twitterStream.add_rules(tweepy.StreamRule('kittens'))\n",
    "print(\"Starting....\")\n",
    "twitterStream.filter(tweet_fields=[\"created_at\", \"public_metrics\", \"entities\"])"
   ]
  },
  {
   "cell_type": "markdown",
   "metadata": {},
   "source": [
    "This will search and download historical tweets:"
   ]
  },
  {
   "cell_type": "code",
   "execution_count": 14,
   "metadata": {
    "collapsed": false,
    "jupyter": {
     "outputs_hidden": false
    }
   },
   "outputs": [
    {
     "name": "stdout",
     "output_type": "stream",
     "text": [
      "{\n",
      "  \"entities\": {\n",
      "    \"annotations\": [\n",
      "      {\n",
      "        \"start\": 19,\n",
      "        \"end\": 31,\n",
      "        \"probability\": 0.4413,\n",
      "        \"type\": \"Organization\",\n",
      "        \"normalized_text\": \"Miami Mashers\"\n",
      "      },\n",
      "      {\n",
      "        \"start\": 40,\n",
      "        \"end\": 44,\n",
      "        \"probability\": 0.4064,\n",
      "        \"type\": \"Organization\",\n",
      "        \"normalized_text\": \"Canes\"\n",
      "      }\n",
      "    ],\n",
      "    \"mentions\": [\n",
      "      {\n",
      "        \"start\": 3,\n",
      "        \"end\": 17,\n",
      "        \"username\": \"CanesBaseball\",\n",
      "        \"id\": \"165764237\"\n",
      "      },\n",
      "      {\n",
      "        \"start\": 69,\n",
      "        \"end\": 82,\n",
      "        \"username\": \"NCAABaseball\",\n",
      "        \"id\": \"41404125\"\n",
      "      }\n",
      "    ]\n",
      "  },\n",
      "  \"text\": \"RT @CanesBaseball: Miami Mashers \\ud83d\\udcaa\\n\\nThe Canes are tied for fourth in @NCAABaseball with 45 home runs!\\n\\nIn Saturday's 21-6 thrashing over th\\u2026\",\n",
      "  \"id\": \"1637922079336017922\",\n",
      "  \"public_metrics\": {\n",
      "    \"retweet_count\": 22,\n",
      "    \"reply_count\": 0,\n",
      "    \"like_count\": 0,\n",
      "    \"quote_count\": 0,\n",
      "    \"impression_count\": 0\n",
      "  },\n",
      "  \"edit_history_tweet_ids\": [\n",
      "    \"1637922079336017922\"\n",
      "  ],\n",
      "  \"author_id\": \"105249200\",\n",
      "  \"created_at\": \"2023-03-20T21:00:29.000Z\",\n",
      "  \"author\": {\n",
      "    \"public_metrics\": {\n",
      "      \"followers_count\": 946,\n",
      "      \"following_count\": 1691,\n",
      "      \"tweet_count\": 13158,\n",
      "      \"listed_count\": 15\n",
      "    },\n",
      "    \"name\": \"\\u24b8\\u24b6\\u24c3\\u24ba\\u24c8 \\ud83d\\udfe0\\ud83d\\udfe2\",\n",
      "    \"username\": \"GoldCane\",\n",
      "    \"id\": \"105249200\"\n",
      "  }\n",
      "}\n"
     ]
    }
   ],
   "source": [
    "client = tweepy.Client(bearer_token=bearer, wait_on_rate_limit=True)\n",
    "\n",
    "\n",
    "def get_tweets(client, input_query, n=1000):\n",
    "    \"\"\"\n",
    "    This collects tweets and associated metadata as well as including associating\n",
    "    users metadata with the tweet.\n",
    "    \"\"\"\n",
    "    page_size = 100\n",
    "    pages = n // 100 + 1\n",
    "    i = 0\n",
    "    for tweet_batch in tweepy.Paginator(client.search_recent_tweets, input_query,\n",
    "                                  tweet_fields=[\"created_at\", \"public_metrics\", \"entities\"],\n",
    "                                   expansions=[\"author_id\"],\n",
    "                                  user_fields=[\"username\", \"public_metrics\"],\n",
    "                                  max_results=page_size, limit=pages):\n",
    "        # user data is sent in a package alongside the returned tweets\n",
    "        user_lookup = {u.id: u.data for u in tweet_batch.includes[\"users\"]}\n",
    "        for tweet in tweet_batch.data:\n",
    "            data = tweet.data\n",
    "            # \n",
    "            data[\"author\"] = user_lookup[tweet.author_id]\n",
    "            i += 1\n",
    "            yield tweet\n",
    "            # stop exactly at the nth tweet otherwise the api will return the rest\n",
    "            # of the data from the same page.\n",
    "            if i == n:\n",
    "                return\n",
    "            \n",
    "\n",
    "input_query = '\"Virginia Tech\"' # -is:retweet'\n",
    "tweets = list(get_tweets(client, input_query))\n",
    "print(json.dumps(tweets[1].data, indent=2))"
   ]
  },
  {
   "cell_type": "code",
   "execution_count": 15,
   "metadata": {
    "collapsed": false,
    "jupyter": {
     "outputs_hidden": false
    }
   },
   "outputs": [],
   "source": [
    "#download english tweets in extended moded, get the first 1000\n",
    "dt = []\n",
    "for tweet in get_tweets(client, input_query):\n",
    "    dt += [tweet.data]\n",
    "dt = pd.json_normalize(dt)\n",
    "#drop unneed metadata and turn it into a list, you can apply this to other listlike fields\n",
    "dt[\"entities.hashtags\"] = dt[\"entities.hashtags\"].apply(lambda r: [] if not isinstance(r, list) else r)\n",
    "dt[\"entities.hashtags\"] = dt[\"entities.hashtags\"].apply(lambda r: [h[\"tag\"] for h in r])\n",
    "\n",
    "dt.to_json(\"tweets-nlp.jsonl\", orient=\"records\", lines=True)"
   ]
  },
  {
   "cell_type": "code",
   "execution_count": 16,
   "metadata": {},
   "outputs": [],
   "source": [
    "dt = pd.read_json(\"tweets-nlp.jsonl\", lines=True)"
   ]
  },
  {
   "cell_type": "code",
   "execution_count": 17,
   "metadata": {},
   "outputs": [
    {
     "data": {
      "text/plain": [
       "0                  []\n",
       "1                  []\n",
       "2                  []\n",
       "3                  []\n",
       "4                  []\n",
       "            ...      \n",
       "995                []\n",
       "996                []\n",
       "997    [MarchMadness]\n",
       "998          [Hokies]\n",
       "999          [Hokies]\n",
       "Name: entities.hashtags, Length: 1000, dtype: object"
      ]
     },
     "execution_count": 17,
     "metadata": {},
     "output_type": "execute_result"
    }
   ],
   "source": [
    "dt[\"entities.hashtags\"]"
   ]
  },
  {
   "cell_type": "markdown",
   "metadata": {},
   "source": [
    "Load the data into a pandas dataframe for easy manipluation and graphing"
   ]
  },
  {
   "cell_type": "code",
   "execution_count": 18,
   "metadata": {
    "collapsed": false,
    "jupyter": {
     "outputs_hidden": false
    }
   },
   "outputs": [
    {
     "data": {
      "text/html": [
       "<div>\n",
       "<style scoped>\n",
       "    .dataframe tbody tr th:only-of-type {\n",
       "        vertical-align: middle;\n",
       "    }\n",
       "\n",
       "    .dataframe tbody tr th {\n",
       "        vertical-align: top;\n",
       "    }\n",
       "\n",
       "    .dataframe thead th {\n",
       "        text-align: right;\n",
       "    }\n",
       "</style>\n",
       "<table border=\"1\" class=\"dataframe\">\n",
       "  <thead>\n",
       "    <tr style=\"text-align: right;\">\n",
       "      <th></th>\n",
       "      <th>created_at</th>\n",
       "      <th>text</th>\n",
       "      <th>entities.hashtags</th>\n",
       "      <th>author.username</th>\n",
       "      <th>author.public_metrics.followers_count</th>\n",
       "    </tr>\n",
       "  </thead>\n",
       "  <tbody>\n",
       "    <tr>\n",
       "      <th>0</th>\n",
       "      <td>2023-03-20 21:03:36+00:00</td>\n",
       "      <td>Damn only fans killed 19 children at an elemen...</td>\n",
       "      <td>[]</td>\n",
       "      <td>AlliGraz</td>\n",
       "      <td>2963</td>\n",
       "    </tr>\n",
       "    <tr>\n",
       "      <th>1</th>\n",
       "      <td>2023-03-20 21:00:29+00:00</td>\n",
       "      <td>RT @CanesBaseball: Miami Mashers 💪\\n\\nThe Cane...</td>\n",
       "      <td>[]</td>\n",
       "      <td>GoldCane</td>\n",
       "      <td>946</td>\n",
       "    </tr>\n",
       "    <tr>\n",
       "      <th>2</th>\n",
       "      <td>2023-03-20 20:58:31+00:00</td>\n",
       "      <td>RT @JamieShaw5: UNC freshman transfer Tyler Ni...</td>\n",
       "      <td>[]</td>\n",
       "      <td>_JT_Smith</td>\n",
       "      <td>1944</td>\n",
       "    </tr>\n",
       "    <tr>\n",
       "      <th>3</th>\n",
       "      <td>2023-03-20 20:53:32+00:00</td>\n",
       "      <td>RT @ABCTPFSIG: Delshad Shroff is a grad studen...</td>\n",
       "      <td>[]</td>\n",
       "      <td>drvernig</td>\n",
       "      <td>10971</td>\n",
       "    </tr>\n",
       "    <tr>\n",
       "      <th>4</th>\n",
       "      <td>2023-03-20 20:51:40+00:00</td>\n",
       "      <td>Duke loses to Virginia Tech after lengthy revi...</td>\n",
       "      <td>[]</td>\n",
       "      <td>melissa_moises</td>\n",
       "      <td>3</td>\n",
       "    </tr>\n",
       "  </tbody>\n",
       "</table>\n",
       "</div>"
      ],
      "text/plain": [
       "                 created_at  \\\n",
       "0 2023-03-20 21:03:36+00:00   \n",
       "1 2023-03-20 21:00:29+00:00   \n",
       "2 2023-03-20 20:58:31+00:00   \n",
       "3 2023-03-20 20:53:32+00:00   \n",
       "4 2023-03-20 20:51:40+00:00   \n",
       "\n",
       "                                                text entities.hashtags  \\\n",
       "0  Damn only fans killed 19 children at an elemen...                []   \n",
       "1  RT @CanesBaseball: Miami Mashers 💪\\n\\nThe Cane...                []   \n",
       "2  RT @JamieShaw5: UNC freshman transfer Tyler Ni...                []   \n",
       "3  RT @ABCTPFSIG: Delshad Shroff is a grad studen...                []   \n",
       "4  Duke loses to Virginia Tech after lengthy revi...                []   \n",
       "\n",
       "  author.username  author.public_metrics.followers_count  \n",
       "0        AlliGraz                                   2963  \n",
       "1        GoldCane                                    946  \n",
       "2       _JT_Smith                                   1944  \n",
       "3        drvernig                                  10971  \n",
       "4  melissa_moises                                      3  "
      ]
     },
     "execution_count": 18,
     "metadata": {},
     "output_type": "execute_result"
    }
   ],
   "source": [
    "dt[['created_at','text','entities.hashtags','author.username','author.public_metrics.followers_count']].head()"
   ]
  },
  {
   "cell_type": "markdown",
   "metadata": {},
   "source": [
    "Plot a histograms of the number of tweets being retweeted"
   ]
  },
  {
   "cell_type": "code",
   "execution_count": 19,
   "metadata": {
    "collapsed": false,
    "jupyter": {
     "outputs_hidden": false
    }
   },
   "outputs": [
    {
     "data": {
      "image/png": "[encoded data removed]",
      "text/plain": [
       "<Figure size 432x288 with 1 Axes>"
      ]
     },
     "metadata": {
      "needs_background": "light"
     },
     "output_type": "display_data"
    }
   ],
   "source": [
    "import matplotlib.pyplot as plt\n",
    "ax = dt['public_metrics.retweet_count'].plot.hist(bins=20)\n",
    "ax.set_xlabel(\"# of retweets\")\n",
    "plt.show()"
   ]
  },
  {
   "cell_type": "markdown",
   "metadata": {},
   "source": [
    "Plot the 95th percentile of the same"
   ]
  },
  {
   "cell_type": "code",
   "execution_count": 20,
   "metadata": {
    "collapsed": false,
    "jupyter": {
     "outputs_hidden": false
    }
   },
   "outputs": [
    {
     "data": {
      "image/png": "[encoded data removed]",
      "text/plain": [
       "<Figure size 432x288 with 1 Axes>"
      ]
     },
     "metadata": {
      "needs_background": "light"
     },
     "output_type": "display_data"
    }
   ],
   "source": [
    "import numpy as np\n",
    "filtered_df = dt[dt['public_metrics.retweet_count'] <= np.percentile(dt['public_metrics.retweet_count'], 95)]\n",
    "filtered_df['public_metrics.retweet_count'].plot.hist(bins=20)\n",
    "plt.show()"
   ]
  },
  {
   "cell_type": "code",
   "execution_count": 21,
   "metadata": {
    "collapsed": false,
    "jupyter": {
     "outputs_hidden": false
    }
   },
   "outputs": [],
   "source": [
    "from collections import Counter\n",
    "hashtag_counter = Counter()\n",
    "for hts in dt['entities.hashtags'].values:\n",
    "    hts = [t for t in hts if len(t) > 0]\n",
    "    hashtag_counter.update(hts)"
   ]
  },
  {
   "cell_type": "code",
   "execution_count": 22,
   "metadata": {
    "collapsed": false,
    "jupyter": {
     "outputs_hidden": false
    }
   },
   "outputs": [
    {
     "name": "stdout",
     "output_type": "stream",
     "text": [
      "('Hokies', 62)\n",
      "('ThisIsHome', 21)\n",
      "('Bearcats', 19)\n",
      "('NFL', 13)\n",
      "('Steelers', 12)\n",
      "('MarchMadness', 9)\n",
      "('VTBOV', 8)\n",
      "('Hokie', 8)\n",
      "('Bills', 7)\n",
      "('VirginiaTech', 5)\n"
     ]
    }
   ],
   "source": [
    "import operator\n",
    "sorted_cntr = sorted(hashtag_counter.items(), key=lambda x: x[1],reverse=True)\n",
    "for tag in hashtag_counter.most_common(10):\n",
    "    print(tag)"
   ]
  },
  {
   "cell_type": "markdown",
   "metadata": {},
   "source": [
    "Build a new dataframe with just the tweets containing a tag with hokies in it"
   ]
  },
  {
   "cell_type": "code",
   "execution_count": 23,
   "metadata": {
    "collapsed": false,
    "jupyter": {
     "outputs_hidden": false
    }
   },
   "outputs": [
    {
     "data": {
      "text/plain": [
       "2"
      ]
     },
     "execution_count": 23,
     "metadata": {},
     "output_type": "execute_result"
    }
   ],
   "source": [
    "hokie_ht = dt[dt['entities.hashtags'].apply(lambda x: 'hokies' in x)]\n",
    "len(hokie_ht)"
   ]
  },
  {
   "cell_type": "code",
   "execution_count": 24,
   "metadata": {
    "collapsed": false,
    "jupyter": {
     "outputs_hidden": false
    }
   },
   "outputs": [
    {
     "name": "stdout",
     "output_type": "stream",
     "text": [
      "('Virginia', 1)\n",
      "('Tech Hokies', 1)\n",
      "('WIDE', 1)\n",
      "('Neck Gaiters', 1)\n",
      "('Maryland', 1)\n",
      "('Virginia Tech', 1)\n",
      "('MarchMadness', 1)\n"
     ]
    }
   ],
   "source": [
    "entities_cntr = Counter()\n",
    "for ht in hokie_ht['text'].values:\n",
    "    entities_cntr.update(nltk_entities(ht))  # use nltk to extract entities\n",
    "\n",
    "for tag in entities_cntr.most_common(10):\n",
    "    print(tag)"
   ]
  },
  {
   "cell_type": "code",
   "execution_count": 25,
   "metadata": {},
   "outputs": [
    {
     "data": {
      "text/html": [
       "<div>\n",
       "<style scoped>\n",
       "    .dataframe tbody tr th:only-of-type {\n",
       "        vertical-align: middle;\n",
       "    }\n",
       "\n",
       "    .dataframe tbody tr th {\n",
       "        vertical-align: top;\n",
       "    }\n",
       "\n",
       "    .dataframe thead th {\n",
       "        text-align: right;\n",
       "    }\n",
       "</style>\n",
       "<table border=\"1\" class=\"dataframe\">\n",
       "  <thead>\n",
       "    <tr style=\"text-align: right;\">\n",
       "      <th></th>\n",
       "      <th>count</th>\n",
       "    </tr>\n",
       "  </thead>\n",
       "  <tbody>\n",
       "    <tr>\n",
       "      <th>Virginia</th>\n",
       "      <td>1</td>\n",
       "    </tr>\n",
       "    <tr>\n",
       "      <th>Tech Hokies</th>\n",
       "      <td>1</td>\n",
       "    </tr>\n",
       "    <tr>\n",
       "      <th>WIDE</th>\n",
       "      <td>1</td>\n",
       "    </tr>\n",
       "    <tr>\n",
       "      <th>Neck Gaiters</th>\n",
       "      <td>1</td>\n",
       "    </tr>\n",
       "    <tr>\n",
       "      <th>Maryland</th>\n",
       "      <td>1</td>\n",
       "    </tr>\n",
       "    <tr>\n",
       "      <th>Virginia Tech</th>\n",
       "      <td>1</td>\n",
       "    </tr>\n",
       "    <tr>\n",
       "      <th>MarchMadness</th>\n",
       "      <td>1</td>\n",
       "    </tr>\n",
       "  </tbody>\n",
       "</table>\n",
       "</div>"
      ],
      "text/plain": [
       "               count\n",
       "Virginia           1\n",
       "Tech Hokies        1\n",
       "WIDE               1\n",
       "Neck Gaiters       1\n",
       "Maryland           1\n",
       "Virginia Tech      1\n",
       "MarchMadness       1"
      ]
     },
     "execution_count": 25,
     "metadata": {},
     "output_type": "execute_result"
    }
   ],
   "source": [
    "edf = pd.DataFrame.from_dict(dict(entities_cntr.most_common(10)), columns=[\"count\"], orient=\"index\")\n",
    "edf"
   ]
  },
  {
   "cell_type": "code",
   "execution_count": 26,
   "metadata": {},
   "outputs": [
    {
     "data": {
      "image/png": "[encoded data removed]",
      "text/plain": [
       "<Figure size 432x288 with 1 Axes>"
      ]
     },
     "metadata": {
      "needs_background": "light"
     },
     "output_type": "display_data"
    }
   ],
   "source": [
    "edf.plot.bar();"
   ]
  },
  {
   "cell_type": "code",
   "execution_count": null,
   "metadata": {},
   "outputs": [],
   "source": []
  }
 ],
 "metadata": {
  "kernelspec": {
   "display_name": "Python 3 (ipykernel)",
   "language": "python",
   "name": "python3"
  },
  "language_info": {
   "codemirror_mode": {
    "name": "ipython",
    "version": 3
   },
   "file_extension": ".py",
   "mimetype": "text/x-python",
   "name": "python",
   "nbconvert_exporter": "python",
   "pygments_lexer": "ipython3",
   "version": "3.13.2"
  }
 },
 "nbformat": 4,
 "nbformat_minor": 4
}
